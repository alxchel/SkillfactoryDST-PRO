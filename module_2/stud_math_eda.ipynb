{
 "cells": [
  {
   "cell_type": "markdown",
   "id": "882318df",
   "metadata": {},
   "source": [
    "# Разведывательный анализ данных. Оценка влияния условий жизни учащихся на их успеваемость по математике."
   ]
  },
  {
   "cell_type": "markdown",
   "id": "e0f4344e",
   "metadata": {},
   "source": [
    "Цель — отследить влияние условий жизни учащихся в возрасте от 15 до 22 лет на их успеваемость по математике, чтобы на ранней стадии выявлять студентов, находящихся в группе риска."
   ]
  },
  {
   "cell_type": "code",
   "execution_count": 1,
   "id": "03372455",
   "metadata": {},
   "outputs": [],
   "source": [
    "import functools\n",
    "import itertools\n",
    "import numpy as np\n",
    "import pandas as pd\n",
    "import scipy.stats as st\n",
    "import seaborn as sns\n",
    "import matplotlib.pyplot as plt\n",
    "\n",
    "pd.set_option('display.max_columns', 50)"
   ]
  },
  {
   "cell_type": "markdown",
   "id": "6ee5cd49",
   "metadata": {},
   "source": [
    "## Вспомогательные функции"
   ]
  },
  {
   "cell_type": "code",
   "execution_count": 2,
   "id": "2d694694",
   "metadata": {},
   "outputs": [],
   "source": [
    "def get_nonintegers(ser: pd.Series):\n",
    "    \"\"\"Возвращает все уникальные значения, не являющиеся целыми числами\"\"\"\n",
    "    return ser[ser != ser.astype(int, errors='ignore')].unique()"
   ]
  },
  {
   "cell_type": "code",
   "execution_count": 3,
   "id": "6278b31b",
   "metadata": {},
   "outputs": [],
   "source": [
    "def get_out_bounds(ser: pd.Series):\n",
    "    \"\"\"Возвращает границы, снаружи которых находятся выбросы\"\"\"\n",
    "    qu25 = ser.quantile(0.25, interpolation='midpoint')\n",
    "    qu75 = ser.quantile(0.75, interpolation='midpoint')\n",
    "    iqr = qu75 - qu25\n",
    "    return qu25 - 1.5 * iqr, qu75 + 1.5 * iqr"
   ]
  },
  {
   "cell_type": "code",
   "execution_count": 4,
   "id": "79af30e7",
   "metadata": {},
   "outputs": [],
   "source": [
    "def int_hist(ser: pd.Series):\n",
    "    \"\"\"Строит гистограмму из последовательности целых чисел с интервалом для каждого числа\"\"\"\n",
    "    ser.hist(bins=np.arange(ser.min() - 0.5, ser.max() + 1.5))"
   ]
  },
  {
   "cell_type": "markdown",
   "id": "ce1d9c54",
   "metadata": {},
   "source": [
    "## Загрузка исходного датасета"
   ]
  },
  {
   "cell_type": "markdown",
   "id": "fc521f21",
   "metadata": {},
   "source": [
    "Исходный csv, похоже, в стандартном формате."
   ]
  },
  {
   "cell_type": "code",
   "execution_count": 5,
   "id": "60de1aa9",
   "metadata": {},
   "outputs": [],
   "source": [
    "sm = pd.read_csv('stud_math.csv')"
   ]
  },
  {
   "cell_type": "code",
   "execution_count": 6,
   "id": "ea5087c7",
   "metadata": {},
   "outputs": [
    {
     "data": {
      "text/plain": [
       "Index(['school', 'sex', 'age', 'address', 'famsize', 'Pstatus', 'Medu', 'Fedu',\n",
       "       'Mjob', 'Fjob', 'reason', 'guardian', 'traveltime', 'studytime',\n",
       "       'failures', 'schoolsup', 'famsup', 'paid', 'activities', 'nursery',\n",
       "       'studytime, granular', 'higher', 'internet', 'romantic', 'famrel',\n",
       "       'freetime', 'goout', 'health', 'absences', 'score'],\n",
       "      dtype='object')"
      ]
     },
     "execution_count": 6,
     "metadata": {},
     "output_type": "execute_result"
    }
   ],
   "source": [
    "sm.columns"
   ]
  },
  {
   "cell_type": "markdown",
   "id": "be2060a3",
   "metadata": {},
   "source": [
    "Приведём названия к питоничному виду."
   ]
  },
  {
   "cell_type": "code",
   "execution_count": 7,
   "id": "33b4a294",
   "metadata": {},
   "outputs": [],
   "source": [
    "sm.rename(\n",
    "    columns={\n",
    "        'studytime, granular': 'studytime_gr',\n",
    "        'Pstatus': 'p_status',\n",
    "        'Medu': 'm_edu',\n",
    "        'Fedu': 'f_edu',\n",
    "        'Mjob': 'm_job',\n",
    "        'Fjob': 'f_job',\n",
    "    }, \n",
    "    inplace=True\n",
    ")"
   ]
  },
  {
   "cell_type": "code",
   "execution_count": 8,
   "id": "216e5bb4",
   "metadata": {},
   "outputs": [
    {
     "data": {
      "text/html": [
       "<div>\n",
       "<style scoped>\n",
       "    .dataframe tbody tr th:only-of-type {\n",
       "        vertical-align: middle;\n",
       "    }\n",
       "\n",
       "    .dataframe tbody tr th {\n",
       "        vertical-align: top;\n",
       "    }\n",
       "\n",
       "    .dataframe thead th {\n",
       "        text-align: right;\n",
       "    }\n",
       "</style>\n",
       "<table border=\"1\" class=\"dataframe\">\n",
       "  <thead>\n",
       "    <tr style=\"text-align: right;\">\n",
       "      <th></th>\n",
       "      <th>school</th>\n",
       "      <th>sex</th>\n",
       "      <th>age</th>\n",
       "      <th>address</th>\n",
       "      <th>famsize</th>\n",
       "      <th>p_status</th>\n",
       "      <th>m_edu</th>\n",
       "      <th>f_edu</th>\n",
       "      <th>m_job</th>\n",
       "      <th>f_job</th>\n",
       "      <th>reason</th>\n",
       "      <th>guardian</th>\n",
       "      <th>traveltime</th>\n",
       "      <th>studytime</th>\n",
       "      <th>failures</th>\n",
       "      <th>schoolsup</th>\n",
       "      <th>famsup</th>\n",
       "      <th>paid</th>\n",
       "      <th>activities</th>\n",
       "      <th>nursery</th>\n",
       "      <th>studytime_gr</th>\n",
       "      <th>higher</th>\n",
       "      <th>internet</th>\n",
       "      <th>romantic</th>\n",
       "      <th>famrel</th>\n",
       "      <th>freetime</th>\n",
       "      <th>goout</th>\n",
       "      <th>health</th>\n",
       "      <th>absences</th>\n",
       "      <th>score</th>\n",
       "    </tr>\n",
       "  </thead>\n",
       "  <tbody>\n",
       "    <tr>\n",
       "      <th>0</th>\n",
       "      <td>GP</td>\n",
       "      <td>F</td>\n",
       "      <td>18</td>\n",
       "      <td>U</td>\n",
       "      <td>NaN</td>\n",
       "      <td>A</td>\n",
       "      <td>4.0</td>\n",
       "      <td>4.0</td>\n",
       "      <td>at_home</td>\n",
       "      <td>teacher</td>\n",
       "      <td>course</td>\n",
       "      <td>mother</td>\n",
       "      <td>2.0</td>\n",
       "      <td>2.0</td>\n",
       "      <td>0.0</td>\n",
       "      <td>yes</td>\n",
       "      <td>no</td>\n",
       "      <td>no</td>\n",
       "      <td>no</td>\n",
       "      <td>yes</td>\n",
       "      <td>-6.0</td>\n",
       "      <td>yes</td>\n",
       "      <td>NaN</td>\n",
       "      <td>no</td>\n",
       "      <td>4.0</td>\n",
       "      <td>3.0</td>\n",
       "      <td>4.0</td>\n",
       "      <td>3.0</td>\n",
       "      <td>6.0</td>\n",
       "      <td>30.0</td>\n",
       "    </tr>\n",
       "    <tr>\n",
       "      <th>1</th>\n",
       "      <td>GP</td>\n",
       "      <td>F</td>\n",
       "      <td>17</td>\n",
       "      <td>U</td>\n",
       "      <td>GT3</td>\n",
       "      <td>NaN</td>\n",
       "      <td>1.0</td>\n",
       "      <td>1.0</td>\n",
       "      <td>at_home</td>\n",
       "      <td>other</td>\n",
       "      <td>course</td>\n",
       "      <td>father</td>\n",
       "      <td>1.0</td>\n",
       "      <td>2.0</td>\n",
       "      <td>0.0</td>\n",
       "      <td>no</td>\n",
       "      <td>yes</td>\n",
       "      <td>no</td>\n",
       "      <td>no</td>\n",
       "      <td>no</td>\n",
       "      <td>-6.0</td>\n",
       "      <td>yes</td>\n",
       "      <td>yes</td>\n",
       "      <td>no</td>\n",
       "      <td>5.0</td>\n",
       "      <td>3.0</td>\n",
       "      <td>3.0</td>\n",
       "      <td>3.0</td>\n",
       "      <td>4.0</td>\n",
       "      <td>30.0</td>\n",
       "    </tr>\n",
       "    <tr>\n",
       "      <th>2</th>\n",
       "      <td>GP</td>\n",
       "      <td>F</td>\n",
       "      <td>15</td>\n",
       "      <td>U</td>\n",
       "      <td>LE3</td>\n",
       "      <td>T</td>\n",
       "      <td>1.0</td>\n",
       "      <td>1.0</td>\n",
       "      <td>at_home</td>\n",
       "      <td>other</td>\n",
       "      <td>other</td>\n",
       "      <td>mother</td>\n",
       "      <td>1.0</td>\n",
       "      <td>2.0</td>\n",
       "      <td>3.0</td>\n",
       "      <td>yes</td>\n",
       "      <td>no</td>\n",
       "      <td>NaN</td>\n",
       "      <td>no</td>\n",
       "      <td>yes</td>\n",
       "      <td>-6.0</td>\n",
       "      <td>yes</td>\n",
       "      <td>yes</td>\n",
       "      <td>NaN</td>\n",
       "      <td>4.0</td>\n",
       "      <td>3.0</td>\n",
       "      <td>2.0</td>\n",
       "      <td>3.0</td>\n",
       "      <td>10.0</td>\n",
       "      <td>50.0</td>\n",
       "    </tr>\n",
       "    <tr>\n",
       "      <th>3</th>\n",
       "      <td>GP</td>\n",
       "      <td>F</td>\n",
       "      <td>15</td>\n",
       "      <td>U</td>\n",
       "      <td>GT3</td>\n",
       "      <td>T</td>\n",
       "      <td>4.0</td>\n",
       "      <td>2.0</td>\n",
       "      <td>health</td>\n",
       "      <td>NaN</td>\n",
       "      <td>home</td>\n",
       "      <td>mother</td>\n",
       "      <td>1.0</td>\n",
       "      <td>3.0</td>\n",
       "      <td>0.0</td>\n",
       "      <td>no</td>\n",
       "      <td>yes</td>\n",
       "      <td>yes</td>\n",
       "      <td>yes</td>\n",
       "      <td>yes</td>\n",
       "      <td>-9.0</td>\n",
       "      <td>yes</td>\n",
       "      <td>yes</td>\n",
       "      <td>yes</td>\n",
       "      <td>3.0</td>\n",
       "      <td>2.0</td>\n",
       "      <td>2.0</td>\n",
       "      <td>5.0</td>\n",
       "      <td>2.0</td>\n",
       "      <td>75.0</td>\n",
       "    </tr>\n",
       "    <tr>\n",
       "      <th>4</th>\n",
       "      <td>GP</td>\n",
       "      <td>F</td>\n",
       "      <td>16</td>\n",
       "      <td>U</td>\n",
       "      <td>GT3</td>\n",
       "      <td>T</td>\n",
       "      <td>3.0</td>\n",
       "      <td>3.0</td>\n",
       "      <td>other</td>\n",
       "      <td>other</td>\n",
       "      <td>home</td>\n",
       "      <td>father</td>\n",
       "      <td>1.0</td>\n",
       "      <td>2.0</td>\n",
       "      <td>0.0</td>\n",
       "      <td>no</td>\n",
       "      <td>yes</td>\n",
       "      <td>yes</td>\n",
       "      <td>no</td>\n",
       "      <td>yes</td>\n",
       "      <td>-6.0</td>\n",
       "      <td>yes</td>\n",
       "      <td>no</td>\n",
       "      <td>no</td>\n",
       "      <td>4.0</td>\n",
       "      <td>3.0</td>\n",
       "      <td>2.0</td>\n",
       "      <td>5.0</td>\n",
       "      <td>4.0</td>\n",
       "      <td>50.0</td>\n",
       "    </tr>\n",
       "    <tr>\n",
       "      <th>...</th>\n",
       "      <td>...</td>\n",
       "      <td>...</td>\n",
       "      <td>...</td>\n",
       "      <td>...</td>\n",
       "      <td>...</td>\n",
       "      <td>...</td>\n",
       "      <td>...</td>\n",
       "      <td>...</td>\n",
       "      <td>...</td>\n",
       "      <td>...</td>\n",
       "      <td>...</td>\n",
       "      <td>...</td>\n",
       "      <td>...</td>\n",
       "      <td>...</td>\n",
       "      <td>...</td>\n",
       "      <td>...</td>\n",
       "      <td>...</td>\n",
       "      <td>...</td>\n",
       "      <td>...</td>\n",
       "      <td>...</td>\n",
       "      <td>...</td>\n",
       "      <td>...</td>\n",
       "      <td>...</td>\n",
       "      <td>...</td>\n",
       "      <td>...</td>\n",
       "      <td>...</td>\n",
       "      <td>...</td>\n",
       "      <td>...</td>\n",
       "      <td>...</td>\n",
       "      <td>...</td>\n",
       "    </tr>\n",
       "    <tr>\n",
       "      <th>390</th>\n",
       "      <td>MS</td>\n",
       "      <td>M</td>\n",
       "      <td>20</td>\n",
       "      <td>U</td>\n",
       "      <td>LE3</td>\n",
       "      <td>A</td>\n",
       "      <td>2.0</td>\n",
       "      <td>2.0</td>\n",
       "      <td>services</td>\n",
       "      <td>services</td>\n",
       "      <td>course</td>\n",
       "      <td>NaN</td>\n",
       "      <td>1.0</td>\n",
       "      <td>2.0</td>\n",
       "      <td>2.0</td>\n",
       "      <td>no</td>\n",
       "      <td>yes</td>\n",
       "      <td>yes</td>\n",
       "      <td>no</td>\n",
       "      <td>yes</td>\n",
       "      <td>-6.0</td>\n",
       "      <td>yes</td>\n",
       "      <td>no</td>\n",
       "      <td>no</td>\n",
       "      <td>5.0</td>\n",
       "      <td>5.0</td>\n",
       "      <td>4.0</td>\n",
       "      <td>4.0</td>\n",
       "      <td>212.0</td>\n",
       "      <td>45.0</td>\n",
       "    </tr>\n",
       "    <tr>\n",
       "      <th>391</th>\n",
       "      <td>MS</td>\n",
       "      <td>M</td>\n",
       "      <td>17</td>\n",
       "      <td>U</td>\n",
       "      <td>LE3</td>\n",
       "      <td>T</td>\n",
       "      <td>3.0</td>\n",
       "      <td>1.0</td>\n",
       "      <td>services</td>\n",
       "      <td>services</td>\n",
       "      <td>course</td>\n",
       "      <td>mother</td>\n",
       "      <td>2.0</td>\n",
       "      <td>1.0</td>\n",
       "      <td>0.0</td>\n",
       "      <td>no</td>\n",
       "      <td>no</td>\n",
       "      <td>no</td>\n",
       "      <td>no</td>\n",
       "      <td>no</td>\n",
       "      <td>-3.0</td>\n",
       "      <td>yes</td>\n",
       "      <td>yes</td>\n",
       "      <td>no</td>\n",
       "      <td>2.0</td>\n",
       "      <td>4.0</td>\n",
       "      <td>5.0</td>\n",
       "      <td>2.0</td>\n",
       "      <td>3.0</td>\n",
       "      <td>80.0</td>\n",
       "    </tr>\n",
       "    <tr>\n",
       "      <th>392</th>\n",
       "      <td>MS</td>\n",
       "      <td>M</td>\n",
       "      <td>21</td>\n",
       "      <td>R</td>\n",
       "      <td>GT3</td>\n",
       "      <td>T</td>\n",
       "      <td>1.0</td>\n",
       "      <td>1.0</td>\n",
       "      <td>other</td>\n",
       "      <td>other</td>\n",
       "      <td>course</td>\n",
       "      <td>NaN</td>\n",
       "      <td>1.0</td>\n",
       "      <td>1.0</td>\n",
       "      <td>3.0</td>\n",
       "      <td>NaN</td>\n",
       "      <td>no</td>\n",
       "      <td>no</td>\n",
       "      <td>no</td>\n",
       "      <td>no</td>\n",
       "      <td>-3.0</td>\n",
       "      <td>NaN</td>\n",
       "      <td>no</td>\n",
       "      <td>no</td>\n",
       "      <td>5.0</td>\n",
       "      <td>5.0</td>\n",
       "      <td>3.0</td>\n",
       "      <td>3.0</td>\n",
       "      <td>3.0</td>\n",
       "      <td>35.0</td>\n",
       "    </tr>\n",
       "    <tr>\n",
       "      <th>393</th>\n",
       "      <td>MS</td>\n",
       "      <td>M</td>\n",
       "      <td>18</td>\n",
       "      <td>R</td>\n",
       "      <td>LE3</td>\n",
       "      <td>T</td>\n",
       "      <td>3.0</td>\n",
       "      <td>2.0</td>\n",
       "      <td>services</td>\n",
       "      <td>other</td>\n",
       "      <td>course</td>\n",
       "      <td>mother</td>\n",
       "      <td>3.0</td>\n",
       "      <td>1.0</td>\n",
       "      <td>0.0</td>\n",
       "      <td>no</td>\n",
       "      <td>no</td>\n",
       "      <td>no</td>\n",
       "      <td>NaN</td>\n",
       "      <td>no</td>\n",
       "      <td>-3.0</td>\n",
       "      <td>yes</td>\n",
       "      <td>yes</td>\n",
       "      <td>no</td>\n",
       "      <td>4.0</td>\n",
       "      <td>4.0</td>\n",
       "      <td>1.0</td>\n",
       "      <td>5.0</td>\n",
       "      <td>0.0</td>\n",
       "      <td>50.0</td>\n",
       "    </tr>\n",
       "    <tr>\n",
       "      <th>394</th>\n",
       "      <td>MS</td>\n",
       "      <td>M</td>\n",
       "      <td>19</td>\n",
       "      <td>U</td>\n",
       "      <td>LE3</td>\n",
       "      <td>T</td>\n",
       "      <td>1.0</td>\n",
       "      <td>1.0</td>\n",
       "      <td>other</td>\n",
       "      <td>at_home</td>\n",
       "      <td>NaN</td>\n",
       "      <td>father</td>\n",
       "      <td>1.0</td>\n",
       "      <td>1.0</td>\n",
       "      <td>0.0</td>\n",
       "      <td>NaN</td>\n",
       "      <td>no</td>\n",
       "      <td>no</td>\n",
       "      <td>no</td>\n",
       "      <td>yes</td>\n",
       "      <td>-3.0</td>\n",
       "      <td>yes</td>\n",
       "      <td>yes</td>\n",
       "      <td>no</td>\n",
       "      <td>3.0</td>\n",
       "      <td>2.0</td>\n",
       "      <td>3.0</td>\n",
       "      <td>5.0</td>\n",
       "      <td>5.0</td>\n",
       "      <td>45.0</td>\n",
       "    </tr>\n",
       "  </tbody>\n",
       "</table>\n",
       "<p>395 rows × 30 columns</p>\n",
       "</div>"
      ],
      "text/plain": [
       "    school sex  age address famsize p_status  m_edu  f_edu     m_job  \\\n",
       "0       GP   F   18       U     NaN        A    4.0    4.0   at_home   \n",
       "1       GP   F   17       U     GT3      NaN    1.0    1.0   at_home   \n",
       "2       GP   F   15       U     LE3        T    1.0    1.0   at_home   \n",
       "3       GP   F   15       U     GT3        T    4.0    2.0    health   \n",
       "4       GP   F   16       U     GT3        T    3.0    3.0     other   \n",
       "..     ...  ..  ...     ...     ...      ...    ...    ...       ...   \n",
       "390     MS   M   20       U     LE3        A    2.0    2.0  services   \n",
       "391     MS   M   17       U     LE3        T    3.0    1.0  services   \n",
       "392     MS   M   21       R     GT3        T    1.0    1.0     other   \n",
       "393     MS   M   18       R     LE3        T    3.0    2.0  services   \n",
       "394     MS   M   19       U     LE3        T    1.0    1.0     other   \n",
       "\n",
       "        f_job  reason guardian  traveltime  studytime  failures schoolsup  \\\n",
       "0     teacher  course   mother         2.0        2.0       0.0       yes   \n",
       "1       other  course   father         1.0        2.0       0.0        no   \n",
       "2       other   other   mother         1.0        2.0       3.0       yes   \n",
       "3         NaN    home   mother         1.0        3.0       0.0        no   \n",
       "4       other    home   father         1.0        2.0       0.0        no   \n",
       "..        ...     ...      ...         ...        ...       ...       ...   \n",
       "390  services  course      NaN         1.0        2.0       2.0        no   \n",
       "391  services  course   mother         2.0        1.0       0.0        no   \n",
       "392     other  course      NaN         1.0        1.0       3.0       NaN   \n",
       "393     other  course   mother         3.0        1.0       0.0        no   \n",
       "394   at_home     NaN   father         1.0        1.0       0.0       NaN   \n",
       "\n",
       "    famsup paid activities nursery  studytime_gr higher internet romantic  \\\n",
       "0       no   no         no     yes          -6.0    yes      NaN       no   \n",
       "1      yes   no         no      no          -6.0    yes      yes       no   \n",
       "2       no  NaN         no     yes          -6.0    yes      yes      NaN   \n",
       "3      yes  yes        yes     yes          -9.0    yes      yes      yes   \n",
       "4      yes  yes         no     yes          -6.0    yes       no       no   \n",
       "..     ...  ...        ...     ...           ...    ...      ...      ...   \n",
       "390    yes  yes         no     yes          -6.0    yes       no       no   \n",
       "391     no   no         no      no          -3.0    yes      yes       no   \n",
       "392     no   no         no      no          -3.0    NaN       no       no   \n",
       "393     no   no        NaN      no          -3.0    yes      yes       no   \n",
       "394     no   no         no     yes          -3.0    yes      yes       no   \n",
       "\n",
       "     famrel  freetime  goout  health  absences  score  \n",
       "0       4.0       3.0    4.0     3.0       6.0   30.0  \n",
       "1       5.0       3.0    3.0     3.0       4.0   30.0  \n",
       "2       4.0       3.0    2.0     3.0      10.0   50.0  \n",
       "3       3.0       2.0    2.0     5.0       2.0   75.0  \n",
       "4       4.0       3.0    2.0     5.0       4.0   50.0  \n",
       "..      ...       ...    ...     ...       ...    ...  \n",
       "390     5.0       5.0    4.0     4.0     212.0   45.0  \n",
       "391     2.0       4.0    5.0     2.0       3.0   80.0  \n",
       "392     5.0       5.0    3.0     3.0       3.0   35.0  \n",
       "393     4.0       4.0    1.0     5.0       0.0   50.0  \n",
       "394     3.0       2.0    3.0     5.0       5.0   45.0  \n",
       "\n",
       "[395 rows x 30 columns]"
      ]
     },
     "execution_count": 8,
     "metadata": {},
     "output_type": "execute_result"
    }
   ],
   "source": [
    "sm"
   ]
  },
  {
   "cell_type": "markdown",
   "id": "073cf06c",
   "metadata": {},
   "source": [
    "Похоже, что загрузилось адекватно."
   ]
  },
  {
   "cell_type": "markdown",
   "id": "1b350cfc",
   "metadata": {},
   "source": [
    "## Первый взгляд на данные по столбцам и предварительная обработка"
   ]
  },
  {
   "cell_type": "code",
   "execution_count": 9,
   "id": "4a43bff8",
   "metadata": {},
   "outputs": [],
   "source": [
    "feature_kind = {}\n",
    "# для хранения свойств признака. Значения:\n",
    "# 'cat' - категориальный \n",
    "# 'num' - числовой"
   ]
  },
  {
   "cell_type": "code",
   "execution_count": 10,
   "id": "159fd1bc",
   "metadata": {},
   "outputs": [
    {
     "name": "stdout",
     "output_type": "stream",
     "text": [
      "<class 'pandas.core.frame.DataFrame'>\n",
      "RangeIndex: 395 entries, 0 to 394\n",
      "Data columns (total 30 columns):\n",
      " #   Column        Non-Null Count  Dtype  \n",
      "---  ------        --------------  -----  \n",
      " 0   school        395 non-null    object \n",
      " 1   sex           395 non-null    object \n",
      " 2   age           395 non-null    int64  \n",
      " 3   address       378 non-null    object \n",
      " 4   famsize       368 non-null    object \n",
      " 5   p_status      350 non-null    object \n",
      " 6   m_edu         392 non-null    float64\n",
      " 7   f_edu         371 non-null    float64\n",
      " 8   m_job         376 non-null    object \n",
      " 9   f_job         359 non-null    object \n",
      " 10  reason        378 non-null    object \n",
      " 11  guardian      364 non-null    object \n",
      " 12  traveltime    367 non-null    float64\n",
      " 13  studytime     388 non-null    float64\n",
      " 14  failures      373 non-null    float64\n",
      " 15  schoolsup     386 non-null    object \n",
      " 16  famsup        356 non-null    object \n",
      " 17  paid          355 non-null    object \n",
      " 18  activities    381 non-null    object \n",
      " 19  nursery       379 non-null    object \n",
      " 20  studytime_gr  388 non-null    float64\n",
      " 21  higher        375 non-null    object \n",
      " 22  internet      361 non-null    object \n",
      " 23  romantic      364 non-null    object \n",
      " 24  famrel        368 non-null    float64\n",
      " 25  freetime      384 non-null    float64\n",
      " 26  goout         387 non-null    float64\n",
      " 27  health        380 non-null    float64\n",
      " 28  absences      383 non-null    float64\n",
      " 29  score         389 non-null    float64\n",
      "dtypes: float64(12), int64(1), object(17)\n",
      "memory usage: 92.7+ KB\n"
     ]
    }
   ],
   "source": [
    "sm.info()"
   ]
  },
  {
   "cell_type": "markdown",
   "id": "d485b0ea",
   "metadata": {},
   "source": [
    "### school\n",
    "_аббревиатура школы, в которой учится ученик._"
   ]
  },
  {
   "cell_type": "markdown",
   "id": "f5a8f39c",
   "metadata": {},
   "source": [
    "Пропусков нет. Должен содержать строки."
   ]
  },
  {
   "cell_type": "code",
   "execution_count": 11,
   "id": "f1d7cf96",
   "metadata": {},
   "outputs": [
    {
     "data": {
      "text/plain": [
       "GP    349\n",
       "MS     46\n",
       "Name: school, dtype: int64"
      ]
     },
     "execution_count": 11,
     "metadata": {},
     "output_type": "execute_result"
    }
   ],
   "source": [
    "sm.school.value_counts()"
   ]
  },
  {
   "cell_type": "markdown",
   "id": "2d3c0791",
   "metadata": {},
   "source": [
    "Тип правильный. Корректность значений не известна."
   ]
  },
  {
   "cell_type": "code",
   "execution_count": 12,
   "id": "6dbd1d2e",
   "metadata": {},
   "outputs": [],
   "source": [
    "feature_kind['school'] = 'cat'"
   ]
  },
  {
   "cell_type": "markdown",
   "id": "3aa74b6d",
   "metadata": {},
   "source": [
    "### sex\n",
    "_пол ученика ('F' - женский, 'M' - мужской)_"
   ]
  },
  {
   "cell_type": "markdown",
   "id": "5fa8626b",
   "metadata": {},
   "source": [
    "Пропусков нет. Должен содержать строки из заданного набора."
   ]
  },
  {
   "cell_type": "code",
   "execution_count": 13,
   "id": "8ea407fe",
   "metadata": {},
   "outputs": [
    {
     "data": {
      "text/plain": [
       "F    208\n",
       "M    187\n",
       "Name: sex, dtype: int64"
      ]
     },
     "execution_count": 13,
     "metadata": {},
     "output_type": "execute_result"
    }
   ],
   "source": [
    "sm.sex.value_counts()"
   ]
  },
  {
   "cell_type": "markdown",
   "id": "46a005c5",
   "metadata": {},
   "source": [
    "Значения из корректного набора."
   ]
  },
  {
   "cell_type": "code",
   "execution_count": 14,
   "id": "713c2dc6",
   "metadata": {},
   "outputs": [],
   "source": [
    "feature_kind['sex'] = 'cat'"
   ]
  },
  {
   "cell_type": "markdown",
   "id": "928b24d7",
   "metadata": {},
   "source": [
    "### age\n",
    "_возраст ученика (от 15 до 22)_\n"
   ]
  },
  {
   "cell_type": "markdown",
   "id": "5e913415",
   "metadata": {},
   "source": [
    "Целочисленный, без пропусков."
   ]
  },
  {
   "cell_type": "code",
   "execution_count": 15,
   "id": "0e0a3bc3",
   "metadata": {},
   "outputs": [
    {
     "data": {
      "text/plain": [
       "count    395.000000\n",
       "mean      16.696203\n",
       "std        1.276043\n",
       "min       15.000000\n",
       "25%       16.000000\n",
       "50%       17.000000\n",
       "75%       18.000000\n",
       "max       22.000000\n",
       "Name: age, dtype: float64"
      ]
     },
     "execution_count": 15,
     "metadata": {},
     "output_type": "execute_result"
    }
   ],
   "source": [
    "sm.age.describe()"
   ]
  },
  {
   "cell_type": "code",
   "execution_count": 16,
   "id": "57f2395c",
   "metadata": {},
   "outputs": [
    {
     "data": {
      "image/png": "[encoded data removed]",
      "text/plain": [
       "<Figure size 432x288 with 1 Axes>"
      ]
     },
     "metadata": {
      "needs_background": "light"
     },
     "output_type": "display_data"
    }
   ],
   "source": [
    "int_hist(sm.age)"
   ]
  },
  {
   "cell_type": "markdown",
   "id": "d845d1e5",
   "metadata": {},
   "source": [
    "Значения в корректном диапазоне."
   ]
  },
  {
   "cell_type": "code",
   "execution_count": 17,
   "id": "135a5b60",
   "metadata": {},
   "outputs": [
    {
     "data": {
      "text/plain": [
       "(13.0, 21.0)"
      ]
     },
     "execution_count": 17,
     "metadata": {},
     "output_type": "execute_result"
    }
   ],
   "source": [
    "get_out_bounds(sm.age)"
   ]
  },
  {
   "cell_type": "markdown",
   "id": "85e1bcfc",
   "metadata": {},
   "source": [
    "Есть статистические выбросы. Допустим, наша модель требует отсутствия выбросов в числовых признаках обучающей выборки. Заменим все, старше 20, на 20."
   ]
  },
  {
   "cell_type": "code",
   "execution_count": 18,
   "id": "7501b480",
   "metadata": {},
   "outputs": [],
   "source": [
    "sm.age.mask(sm.age > 20, 20, inplace=True)"
   ]
  },
  {
   "cell_type": "code",
   "execution_count": 19,
   "id": "13601944",
   "metadata": {},
   "outputs": [
    {
     "data": {
      "image/png": "[encoded data removed]",
      "text/plain": [
       "<Figure size 432x288 with 1 Axes>"
      ]
     },
     "metadata": {
      "needs_background": "light"
     },
     "output_type": "display_data"
    }
   ],
   "source": [
    "int_hist(sm.age)"
   ]
  },
  {
   "cell_type": "code",
   "execution_count": 20,
   "id": "ae7ec4e0",
   "metadata": {},
   "outputs": [],
   "source": [
    "feature_kind['age'] = 'num'"
   ]
  },
  {
   "cell_type": "markdown",
   "id": "24e66093",
   "metadata": {},
   "source": [
    "### address\n",
    "_тип адреса ученика ('U' - городской, 'R' - за городом)_"
   ]
  },
  {
   "cell_type": "markdown",
   "id": "d7afb686",
   "metadata": {},
   "source": [
    "Есть пропуски. Должен содержать строки из заданного набора."
   ]
  },
  {
   "cell_type": "code",
   "execution_count": 21,
   "id": "f9b9f127",
   "metadata": {},
   "outputs": [
    {
     "data": {
      "text/plain": [
       "U      295\n",
       "R       83\n",
       "NaN     17\n",
       "Name: address, dtype: int64"
      ]
     },
     "execution_count": 21,
     "metadata": {},
     "output_type": "execute_result"
    }
   ],
   "source": [
    "sm.address.value_counts(dropna=False)"
   ]
  },
  {
   "cell_type": "markdown",
   "id": "7ba5b877",
   "metadata": {},
   "source": [
    "Непропущенные значения из корректного набора."
   ]
  },
  {
   "cell_type": "code",
   "execution_count": 22,
   "id": "ac65f524",
   "metadata": {},
   "outputs": [],
   "source": [
    "feature_kind['address'] = 'cat'"
   ]
  },
  {
   "cell_type": "markdown",
   "id": "76930914",
   "metadata": {},
   "source": [
    "### famsize\n",
    "_размер семьи('LE3' <= 3, 'GT3' >3)_"
   ]
  },
  {
   "cell_type": "markdown",
   "id": "a5820921",
   "metadata": {},
   "source": [
    "Есть пропуски. Должен содержать строки из заданного набора."
   ]
  },
  {
   "cell_type": "code",
   "execution_count": 23,
   "id": "bec00627",
   "metadata": {},
   "outputs": [
    {
     "data": {
      "text/plain": [
       "GT3    261\n",
       "LE3    107\n",
       "NaN     27\n",
       "Name: famsize, dtype: int64"
      ]
     },
     "execution_count": 23,
     "metadata": {},
     "output_type": "execute_result"
    }
   ],
   "source": [
    "sm.famsize.value_counts(dropna=False)"
   ]
  },
  {
   "cell_type": "markdown",
   "id": "e030ed26",
   "metadata": {},
   "source": [
    "Непропущенные значения из корректного набора."
   ]
  },
  {
   "cell_type": "code",
   "execution_count": 24,
   "id": "21705819",
   "metadata": {},
   "outputs": [],
   "source": [
    "feature_kind['famsize'] = 'cat'"
   ]
  },
  {
   "cell_type": "markdown",
   "id": "39d78cfd",
   "metadata": {},
   "source": [
    "### p_status\n",
    "_статус совместного жилья родителей ('T' - живут вместе 'A' - раздельно)_"
   ]
  },
  {
   "cell_type": "markdown",
   "id": "d1413b1d",
   "metadata": {},
   "source": [
    "Есть пропуски. Должен содержать строки из заданного набора."
   ]
  },
  {
   "cell_type": "code",
   "execution_count": 25,
   "id": "ada8c20e",
   "metadata": {},
   "outputs": [
    {
     "data": {
      "text/plain": [
       "T      314\n",
       "NaN     45\n",
       "A       36\n",
       "Name: p_status, dtype: int64"
      ]
     },
     "execution_count": 25,
     "metadata": {},
     "output_type": "execute_result"
    }
   ],
   "source": [
    "sm.p_status.value_counts(dropna=False)"
   ]
  },
  {
   "cell_type": "markdown",
   "id": "d6143629",
   "metadata": {},
   "source": [
    "Непропущенные значения из корректного набора."
   ]
  },
  {
   "cell_type": "code",
   "execution_count": 26,
   "id": "07d97ec3",
   "metadata": {},
   "outputs": [],
   "source": [
    "feature_kind['p_status'] = 'cat'"
   ]
  },
  {
   "cell_type": "markdown",
   "id": "da02d1de",
   "metadata": {},
   "source": [
    "### m_edu\n",
    "_образование матери (0 - нет, 1 - 4 класса, 2 - 5-9 классы, 3 - среднее специальное или 11 классов, 4 - высшее)_"
   ]
  },
  {
   "cell_type": "markdown",
   "id": "fae70a7d",
   "metadata": {},
   "source": [
    "Числовой с пропусками. Должен содержать целые числа из заданного набора."
   ]
  },
  {
   "cell_type": "code",
   "execution_count": 27,
   "id": "b88451d8",
   "metadata": {},
   "outputs": [
    {
     "data": {
      "text/plain": [
       "4.0    131\n",
       "2.0    102\n",
       "3.0     97\n",
       "1.0     59\n",
       "NaN      3\n",
       "0.0      3\n",
       "Name: m_edu, dtype: int64"
      ]
     },
     "execution_count": 27,
     "metadata": {},
     "output_type": "execute_result"
    }
   ],
   "source": [
    "sm.m_edu.value_counts(dropna=False)"
   ]
  },
  {
   "cell_type": "markdown",
   "id": "3da33ffd",
   "metadata": {},
   "source": [
    "Непропущенные значения из корректного набора."
   ]
  },
  {
   "cell_type": "code",
   "execution_count": 28,
   "id": "c2f485a0",
   "metadata": {},
   "outputs": [],
   "source": [
    "feature_kind['m_edu'] = 'cat'"
   ]
  },
  {
   "cell_type": "markdown",
   "id": "c00640ff",
   "metadata": {},
   "source": [
    "### f_edu\n",
    "_образование отца (0 - нет, 1 - 4 класса, 2 - 5-9 классы, 3 - среднее специальное или 11 классов, 4 - высшее)_"
   ]
  },
  {
   "cell_type": "markdown",
   "id": "50e8cdbf",
   "metadata": {},
   "source": [
    "Числовой с пропусками. Должен содержать целые числа из заданного набора."
   ]
  },
  {
   "cell_type": "code",
   "execution_count": 29,
   "id": "a77fa131",
   "metadata": {},
   "outputs": [
    {
     "data": {
      "text/plain": [
       "2.0     106\n",
       "3.0      96\n",
       "4.0      88\n",
       "1.0      78\n",
       "NaN      24\n",
       "0.0       2\n",
       "40.0      1\n",
       "Name: f_edu, dtype: int64"
      ]
     },
     "execution_count": 29,
     "metadata": {},
     "output_type": "execute_result"
    }
   ],
   "source": [
    "sm.f_edu.value_counts(dropna=False)"
   ]
  },
  {
   "cell_type": "markdown",
   "id": "16ec4a43",
   "metadata": {},
   "source": [
    "Есть некорректное значение. Пока что заменяем его на пропуск."
   ]
  },
  {
   "cell_type": "code",
   "execution_count": 30,
   "id": "b9396557",
   "metadata": {},
   "outputs": [],
   "source": [
    "sm.f_edu.mask(~sm.f_edu.between(0, 4), None, inplace=True)"
   ]
  },
  {
   "cell_type": "code",
   "execution_count": 31,
   "id": "66cb1935",
   "metadata": {},
   "outputs": [],
   "source": [
    "feature_kind['f_edu'] = 'cat'"
   ]
  },
  {
   "cell_type": "markdown",
   "id": "e4e8fd16",
   "metadata": {},
   "source": [
    "### m_job\n",
    "_работа матери ('teacher' - учитель, 'health' - сфера здравоохранения, 'services' - гос служба, 'at_home' - не работает, 'other' - другое)_"
   ]
  },
  {
   "cell_type": "markdown",
   "id": "2f5f64f2",
   "metadata": {},
   "source": [
    "Есть пропуски. Должен содержать строки из заданного набора."
   ]
  },
  {
   "cell_type": "code",
   "execution_count": 32,
   "id": "db2954c0",
   "metadata": {},
   "outputs": [
    {
     "data": {
      "text/plain": [
       "other       133\n",
       "services     98\n",
       "at_home      58\n",
       "teacher      55\n",
       "health       32\n",
       "NaN          19\n",
       "Name: m_job, dtype: int64"
      ]
     },
     "execution_count": 32,
     "metadata": {},
     "output_type": "execute_result"
    }
   ],
   "source": [
    "sm.m_job.value_counts(dropna=False)"
   ]
  },
  {
   "cell_type": "markdown",
   "id": "42ce446a",
   "metadata": {},
   "source": [
    "Непропущенные значения из корректного набора."
   ]
  },
  {
   "cell_type": "code",
   "execution_count": 33,
   "id": "e8694402",
   "metadata": {},
   "outputs": [],
   "source": [
    "feature_kind['m_job'] = 'cat'"
   ]
  },
  {
   "cell_type": "markdown",
   "id": "957a67fe",
   "metadata": {},
   "source": [
    "### f_job\n",
    "_работа отца ('teacher' - учитель, 'health' - сфера здравоохранения, 'services' - гос служба, 'at_home' - не работает, 'other' - другое)_"
   ]
  },
  {
   "cell_type": "markdown",
   "id": "ce978ad5",
   "metadata": {},
   "source": [
    "Есть пропуски. Должен содержать строки из заданного набора."
   ]
  },
  {
   "cell_type": "code",
   "execution_count": 34,
   "id": "1a35b093",
   "metadata": {},
   "outputs": [
    {
     "data": {
      "text/plain": [
       "other       197\n",
       "services    102\n",
       "NaN          36\n",
       "teacher      29\n",
       "at_home      16\n",
       "health       15\n",
       "Name: f_job, dtype: int64"
      ]
     },
     "execution_count": 34,
     "metadata": {},
     "output_type": "execute_result"
    }
   ],
   "source": [
    "sm.f_job.value_counts(dropna=False)"
   ]
  },
  {
   "cell_type": "markdown",
   "id": "bbd2249f",
   "metadata": {},
   "source": [
    "Непропущенные значения из корректного набора."
   ]
  },
  {
   "cell_type": "code",
   "execution_count": 35,
   "id": "812e891e",
   "metadata": {},
   "outputs": [],
   "source": [
    "feature_kind['f_job'] = 'cat'"
   ]
  },
  {
   "cell_type": "markdown",
   "id": "29302962",
   "metadata": {},
   "source": [
    "### reason\n",
    "_причина выбора школы ('home' - близость к дому, 'reputation' - репутация школы, 'course' - образовательная программа, 'other' - другое)_"
   ]
  },
  {
   "cell_type": "markdown",
   "id": "c8ae8eb0",
   "metadata": {},
   "source": [
    "Есть пропуски. Должен содержать строки из заданного набора."
   ]
  },
  {
   "cell_type": "code",
   "execution_count": 36,
   "id": "a1e71983",
   "metadata": {},
   "outputs": [
    {
     "data": {
      "text/plain": [
       "course        137\n",
       "home          104\n",
       "reputation    103\n",
       "other          34\n",
       "NaN            17\n",
       "Name: reason, dtype: int64"
      ]
     },
     "execution_count": 36,
     "metadata": {},
     "output_type": "execute_result"
    }
   ],
   "source": [
    "sm.reason.value_counts(dropna=False)"
   ]
  },
  {
   "cell_type": "markdown",
   "id": "b458d4ed",
   "metadata": {},
   "source": [
    "Непропущенные значения из корректного набора."
   ]
  },
  {
   "cell_type": "code",
   "execution_count": 37,
   "id": "e8529b78",
   "metadata": {},
   "outputs": [],
   "source": [
    "feature_kind['reason'] = 'cat'"
   ]
  },
  {
   "cell_type": "markdown",
   "id": "4c30f309",
   "metadata": {},
   "source": [
    "### guardian\n",
    "_опекун ('mother' - мать, 'father' - отец, 'other' - другое)_"
   ]
  },
  {
   "cell_type": "markdown",
   "id": "5e95fb13",
   "metadata": {},
   "source": [
    "Есть пропуски. Должен содержать строки из заданного набора."
   ]
  },
  {
   "cell_type": "code",
   "execution_count": 38,
   "id": "44e66a83",
   "metadata": {},
   "outputs": [
    {
     "data": {
      "text/plain": [
       "mother    250\n",
       "father     86\n",
       "NaN        31\n",
       "other      28\n",
       "Name: guardian, dtype: int64"
      ]
     },
     "execution_count": 38,
     "metadata": {},
     "output_type": "execute_result"
    }
   ],
   "source": [
    "sm.guardian.value_counts(dropna=False)"
   ]
  },
  {
   "cell_type": "markdown",
   "id": "da5ede63",
   "metadata": {},
   "source": [
    "Непропущенные значения из корректного набора."
   ]
  },
  {
   "cell_type": "code",
   "execution_count": 39,
   "id": "46f4b414",
   "metadata": {},
   "outputs": [],
   "source": [
    "feature_kind['guardian'] = 'cat'"
   ]
  },
  {
   "cell_type": "markdown",
   "id": "7fb410a4",
   "metadata": {},
   "source": [
    "### traveltime\n",
    "_время в пути до школы (1 - <15 мин., 2 - 15-30 мин., 3 - 30-60 мин., 4 - >60 мин.)_"
   ]
  },
  {
   "cell_type": "markdown",
   "id": "a67bb5b5",
   "metadata": {},
   "source": [
    "Числовой с пропусками. Должен содержать целые числа из заданного набора."
   ]
  },
  {
   "cell_type": "code",
   "execution_count": 40,
   "id": "d3897558",
   "metadata": {},
   "outputs": [
    {
     "data": {
      "text/plain": [
       "1.0    242\n",
       "2.0     96\n",
       "NaN     28\n",
       "3.0     22\n",
       "4.0      7\n",
       "Name: traveltime, dtype: int64"
      ]
     },
     "execution_count": 40,
     "metadata": {},
     "output_type": "execute_result"
    }
   ],
   "source": [
    "sm.traveltime.value_counts(dropna=False)"
   ]
  },
  {
   "cell_type": "markdown",
   "id": "45b296df",
   "metadata": {},
   "source": [
    "Непропущенные значения из корректного набора."
   ]
  },
  {
   "cell_type": "code",
   "execution_count": 41,
   "id": "2d747897",
   "metadata": {},
   "outputs": [],
   "source": [
    "feature_kind['traveltime'] = 'cat'"
   ]
  },
  {
   "cell_type": "markdown",
   "id": "0231f31b",
   "metadata": {},
   "source": [
    "### studytime\n",
    "_время на учёбу помимо школы в неделю (1 - <2 часов, 2 - 2-5 часов, 3 - 5-10 часов, 4 - >10 часов)_"
   ]
  },
  {
   "cell_type": "markdown",
   "id": "ecb2753f",
   "metadata": {},
   "source": [
    "Числовой с пропусками. Должен содержать целые числа из заданного набора."
   ]
  },
  {
   "cell_type": "code",
   "execution_count": 42,
   "id": "25c7db3c",
   "metadata": {},
   "outputs": [
    {
     "data": {
      "text/plain": [
       "2.0    194\n",
       "1.0    103\n",
       "3.0     64\n",
       "4.0     27\n",
       "NaN      7\n",
       "Name: studytime, dtype: int64"
      ]
     },
     "execution_count": 42,
     "metadata": {},
     "output_type": "execute_result"
    }
   ],
   "source": [
    "sm.studytime.value_counts(dropna=False)"
   ]
  },
  {
   "cell_type": "markdown",
   "id": "fa15cae7",
   "metadata": {},
   "source": [
    "Непропущенные значения из корректного набора."
   ]
  },
  {
   "cell_type": "code",
   "execution_count": 43,
   "id": "674e764c",
   "metadata": {},
   "outputs": [],
   "source": [
    "feature_kind['studytime'] = 'cat'"
   ]
  },
  {
   "cell_type": "markdown",
   "id": "d8c3e266",
   "metadata": {},
   "source": [
    "### failures\n",
    "_количество внеучебных неудач(?) (n, если 1<=n<=3, иначе 0)_"
   ]
  },
  {
   "cell_type": "markdown",
   "id": "a0bfcfba",
   "metadata": {},
   "source": [
    "Числовой с пропусками. Должен содержать целые числа из заданного набора."
   ]
  },
  {
   "cell_type": "code",
   "execution_count": 44,
   "id": "1fa4c957",
   "metadata": {},
   "outputs": [
    {
     "data": {
      "text/plain": [
       "0.0    293\n",
       "1.0     49\n",
       "NaN     22\n",
       "2.0     16\n",
       "3.0     15\n",
       "Name: failures, dtype: int64"
      ]
     },
     "execution_count": 44,
     "metadata": {},
     "output_type": "execute_result"
    }
   ],
   "source": [
    "sm.failures.value_counts(dropna=False)"
   ]
  },
  {
   "cell_type": "code",
   "execution_count": 45,
   "id": "1639872f",
   "metadata": {},
   "outputs": [],
   "source": [
    "feature_kind['failures'] = 'cat'"
   ]
  },
  {
   "cell_type": "markdown",
   "id": "2ba61c8b",
   "metadata": {},
   "source": [
    "### schoolsup\n",
    "_дополнительная образовательная поддержка (yes или no)_"
   ]
  },
  {
   "cell_type": "markdown",
   "id": "e069a25b",
   "metadata": {},
   "source": [
    "Есть пропуски. Должен содержать строки из заданного набора."
   ]
  },
  {
   "cell_type": "code",
   "execution_count": 46,
   "id": "358b6c75",
   "metadata": {},
   "outputs": [
    {
     "data": {
      "text/plain": [
       "no     335\n",
       "yes     51\n",
       "NaN      9\n",
       "Name: schoolsup, dtype: int64"
      ]
     },
     "execution_count": 46,
     "metadata": {},
     "output_type": "execute_result"
    }
   ],
   "source": [
    "sm.schoolsup.value_counts(dropna=False)"
   ]
  },
  {
   "cell_type": "markdown",
   "id": "9bb446d5",
   "metadata": {},
   "source": [
    "Непропущенные значения из корректного набора."
   ]
  },
  {
   "cell_type": "code",
   "execution_count": 47,
   "id": "d499fe0c",
   "metadata": {},
   "outputs": [],
   "source": [
    "feature_kind['schoolsup'] = 'cat'"
   ]
  },
  {
   "cell_type": "markdown",
   "id": "23dbab09",
   "metadata": {},
   "source": [
    "### famsup\n",
    "_семейная образовательная поддержка (yes или no)_"
   ]
  },
  {
   "cell_type": "markdown",
   "id": "2fe42359",
   "metadata": {},
   "source": [
    "Есть пропуски. Должен содержать строки из заданного набора."
   ]
  },
  {
   "cell_type": "code",
   "execution_count": 48,
   "id": "4eb82429",
   "metadata": {},
   "outputs": [
    {
     "data": {
      "text/plain": [
       "yes    219\n",
       "no     137\n",
       "NaN     39\n",
       "Name: famsup, dtype: int64"
      ]
     },
     "execution_count": 48,
     "metadata": {},
     "output_type": "execute_result"
    }
   ],
   "source": [
    "sm.famsup.value_counts(dropna=False)"
   ]
  },
  {
   "cell_type": "markdown",
   "id": "dbdcfe1d",
   "metadata": {},
   "source": [
    "Непропущенные значения из корректного набора."
   ]
  },
  {
   "cell_type": "code",
   "execution_count": 49,
   "id": "cc9fb11f",
   "metadata": {},
   "outputs": [],
   "source": [
    "feature_kind['famsup'] = 'cat'"
   ]
  },
  {
   "cell_type": "markdown",
   "id": "a27d0a33",
   "metadata": {},
   "source": [
    "### paid\n",
    "_дополнительные платные занятия по математике (yes или no)_"
   ]
  },
  {
   "cell_type": "markdown",
   "id": "589917cb",
   "metadata": {},
   "source": [
    "Есть пропуски. Должен содержать строки из заданного набора."
   ]
  },
  {
   "cell_type": "code",
   "execution_count": 50,
   "id": "6020f749",
   "metadata": {},
   "outputs": [
    {
     "data": {
      "text/plain": [
       "no     200\n",
       "yes    155\n",
       "NaN     40\n",
       "Name: paid, dtype: int64"
      ]
     },
     "execution_count": 50,
     "metadata": {},
     "output_type": "execute_result"
    }
   ],
   "source": [
    "sm.paid.value_counts(dropna=False)"
   ]
  },
  {
   "cell_type": "markdown",
   "id": "d6df45bc",
   "metadata": {},
   "source": [
    "Непропущенные значения из корректного набора."
   ]
  },
  {
   "cell_type": "code",
   "execution_count": 51,
   "id": "5bcccff8",
   "metadata": {},
   "outputs": [],
   "source": [
    "feature_kind['paid'] = 'cat'"
   ]
  },
  {
   "cell_type": "markdown",
   "id": "e158f042",
   "metadata": {},
   "source": [
    "### activities\n",
    "_дополнительные внеучебные занятия (yes или no)_"
   ]
  },
  {
   "cell_type": "markdown",
   "id": "68f86e74",
   "metadata": {},
   "source": [
    "Есть пропуски. Должен содержать строки из заданного набора."
   ]
  },
  {
   "cell_type": "code",
   "execution_count": 52,
   "id": "e265bace",
   "metadata": {},
   "outputs": [
    {
     "data": {
      "text/plain": [
       "yes    195\n",
       "no     186\n",
       "NaN     14\n",
       "Name: activities, dtype: int64"
      ]
     },
     "execution_count": 52,
     "metadata": {},
     "output_type": "execute_result"
    }
   ],
   "source": [
    "sm.activities.value_counts(dropna=False)"
   ]
  },
  {
   "cell_type": "markdown",
   "id": "4711f309",
   "metadata": {},
   "source": [
    "Непропущенные значения из корректного набора."
   ]
  },
  {
   "cell_type": "code",
   "execution_count": 53,
   "id": "08a9474a",
   "metadata": {},
   "outputs": [],
   "source": [
    "feature_kind['activities'] = 'cat'"
   ]
  },
  {
   "cell_type": "markdown",
   "id": "4de41ed4",
   "metadata": {},
   "source": [
    "### nursery\n",
    "_посещал детский сад (yes или no)_"
   ]
  },
  {
   "cell_type": "markdown",
   "id": "5ad6f7e5",
   "metadata": {},
   "source": [
    "Есть пропуски. Должен содержать строки из заданного набора."
   ]
  },
  {
   "cell_type": "code",
   "execution_count": 54,
   "id": "b0373426",
   "metadata": {},
   "outputs": [
    {
     "data": {
      "text/plain": [
       "yes    300\n",
       "no      79\n",
       "NaN     16\n",
       "Name: nursery, dtype: int64"
      ]
     },
     "execution_count": 54,
     "metadata": {},
     "output_type": "execute_result"
    }
   ],
   "source": [
    "sm.nursery.value_counts(dropna=False)"
   ]
  },
  {
   "cell_type": "markdown",
   "id": "4ea417fd",
   "metadata": {},
   "source": [
    "Непропущенные значения из корректного набора."
   ]
  },
  {
   "cell_type": "code",
   "execution_count": 55,
   "id": "ab542059",
   "metadata": {},
   "outputs": [],
   "source": [
    "feature_kind['nursery'] = 'cat'"
   ]
  },
  {
   "cell_type": "markdown",
   "id": "127f78f5",
   "metadata": {},
   "source": [
    "### studytime_gr\n",
    "Недокументированно."
   ]
  },
  {
   "cell_type": "code",
   "execution_count": 56,
   "id": "a880600b",
   "metadata": {},
   "outputs": [
    {
     "data": {
      "text/plain": [
       "-6.0     194\n",
       "-3.0     103\n",
       "-9.0      64\n",
       "-12.0     27\n",
       " NaN       7\n",
       "Name: studytime_gr, dtype: int64"
      ]
     },
     "execution_count": 56,
     "metadata": {},
     "output_type": "execute_result"
    }
   ],
   "source": [
    "sm.studytime_gr.value_counts(dropna=False)"
   ]
  },
  {
   "cell_type": "markdown",
   "id": "c5521b7d",
   "metadata": {},
   "source": [
    "Подозрительно похоже на studytime."
   ]
  },
  {
   "cell_type": "code",
   "execution_count": 57,
   "id": "dc181d1d",
   "metadata": {},
   "outputs": [
    {
     "data": {
      "text/plain": [
       "-0.9999999999999991"
      ]
     },
     "execution_count": 57,
     "metadata": {},
     "output_type": "execute_result"
    }
   ],
   "source": [
    "sm.studytime_gr.corr(sm.studytime)"
   ]
  },
  {
   "cell_type": "markdown",
   "id": "5be856b0",
   "metadata": {},
   "source": [
    "Линейная зависимость. Сразу удаляем."
   ]
  },
  {
   "cell_type": "code",
   "execution_count": 58,
   "id": "164418d5",
   "metadata": {},
   "outputs": [],
   "source": [
    "sm.drop('studytime_gr', axis=1, inplace=True)"
   ]
  },
  {
   "cell_type": "markdown",
   "id": "c138382f",
   "metadata": {},
   "source": [
    "### higher\n",
    "_хочет получить высшее образование (yes или no)_"
   ]
  },
  {
   "cell_type": "markdown",
   "id": "adde543e",
   "metadata": {},
   "source": [
    "Есть пропуски. Должен содержать строки из заданного набора."
   ]
  },
  {
   "cell_type": "code",
   "execution_count": 59,
   "id": "e9e71216",
   "metadata": {},
   "outputs": [
    {
     "data": {
      "text/plain": [
       "yes    356\n",
       "NaN     20\n",
       "no      19\n",
       "Name: higher, dtype: int64"
      ]
     },
     "execution_count": 59,
     "metadata": {},
     "output_type": "execute_result"
    }
   ],
   "source": [
    "sm.higher.value_counts(dropna=False)"
   ]
  },
  {
   "cell_type": "markdown",
   "id": "26bdd016",
   "metadata": {},
   "source": [
    "Непропущенные значения из корректного набора."
   ]
  },
  {
   "cell_type": "code",
   "execution_count": 60,
   "id": "7a2e77be",
   "metadata": {},
   "outputs": [],
   "source": [
    "feature_kind['higher'] = 'cat'"
   ]
  },
  {
   "cell_type": "markdown",
   "id": "d0429e09",
   "metadata": {},
   "source": [
    "### internet\n",
    "_наличие интернета дома (yes или no)_"
   ]
  },
  {
   "cell_type": "markdown",
   "id": "35da139d",
   "metadata": {},
   "source": [
    "Есть пропуски. Должен содержать строки из заданного набора."
   ]
  },
  {
   "cell_type": "code",
   "execution_count": 61,
   "id": "be25e55d",
   "metadata": {},
   "outputs": [
    {
     "data": {
      "text/plain": [
       "yes    305\n",
       "no      56\n",
       "NaN     34\n",
       "Name: internet, dtype: int64"
      ]
     },
     "execution_count": 61,
     "metadata": {},
     "output_type": "execute_result"
    }
   ],
   "source": [
    "sm.internet.value_counts(dropna=False)"
   ]
  },
  {
   "cell_type": "markdown",
   "id": "f3cbfeb8",
   "metadata": {},
   "source": [
    "Непропущенные значения из корректного набора."
   ]
  },
  {
   "cell_type": "code",
   "execution_count": 62,
   "id": "bae956b4",
   "metadata": {},
   "outputs": [],
   "source": [
    "feature_kind['internet'] = 'cat'"
   ]
  },
  {
   "cell_type": "markdown",
   "id": "a1eb5cd6",
   "metadata": {},
   "source": [
    "### romantic\n",
    "_в романтических отношениях (yes или no)_"
   ]
  },
  {
   "cell_type": "markdown",
   "id": "d2ecc81f",
   "metadata": {},
   "source": [
    "Есть пропуски. Должен содержать строки из заданного набора."
   ]
  },
  {
   "cell_type": "code",
   "execution_count": 63,
   "id": "45ab1056",
   "metadata": {},
   "outputs": [
    {
     "data": {
      "text/plain": [
       "no     240\n",
       "yes    124\n",
       "NaN     31\n",
       "Name: romantic, dtype: int64"
      ]
     },
     "execution_count": 63,
     "metadata": {},
     "output_type": "execute_result"
    }
   ],
   "source": [
    "sm.romantic.value_counts(dropna=False)"
   ]
  },
  {
   "cell_type": "markdown",
   "id": "30486684",
   "metadata": {},
   "source": [
    "Непропущенные значения из корректного набора."
   ]
  },
  {
   "cell_type": "code",
   "execution_count": 64,
   "id": "14acae1f",
   "metadata": {},
   "outputs": [],
   "source": [
    "feature_kind['romantic'] = 'cat'"
   ]
  },
  {
   "cell_type": "markdown",
   "id": "c0adcf99",
   "metadata": {},
   "source": [
    "### famrel\n",
    "_семейные отношения (от 1 - очень плохо до 5 - очень хорошо)_"
   ]
  },
  {
   "cell_type": "markdown",
   "id": "13802214",
   "metadata": {},
   "source": [
    "Числовой с пропусками. Должен содержать целые числа из заданного набора."
   ]
  },
  {
   "cell_type": "code",
   "execution_count": 65,
   "id": "b7d35960",
   "metadata": {},
   "outputs": [
    {
     "data": {
      "text/plain": [
       " 4.0    182\n",
       " 5.0     99\n",
       " 3.0     62\n",
       " NaN     27\n",
       " 2.0     17\n",
       " 1.0      7\n",
       "-1.0      1\n",
       "Name: famrel, dtype: int64"
      ]
     },
     "execution_count": 65,
     "metadata": {},
     "output_type": "execute_result"
    }
   ],
   "source": [
    "sm.famrel.value_counts(dropna=False)"
   ]
  },
  {
   "cell_type": "markdown",
   "id": "d29d8cb6",
   "metadata": {},
   "source": [
    "Есть некорректное значение. Пока что заменяем его на пропуск."
   ]
  },
  {
   "cell_type": "code",
   "execution_count": 66,
   "id": "a9958397",
   "metadata": {},
   "outputs": [],
   "source": [
    "sm.famrel.mask(~sm.famrel.between(1, 5), None, inplace=True)"
   ]
  },
  {
   "cell_type": "code",
   "execution_count": 67,
   "id": "3f95a2bd",
   "metadata": {},
   "outputs": [
    {
     "data": {
      "text/plain": [
       "4.0    182\n",
       "5.0     99\n",
       "3.0     62\n",
       "NaN     28\n",
       "2.0     17\n",
       "1.0      7\n",
       "Name: famrel, dtype: int64"
      ]
     },
     "execution_count": 67,
     "metadata": {},
     "output_type": "execute_result"
    }
   ],
   "source": [
    "sm.famrel.value_counts(dropna=False)"
   ]
  },
  {
   "cell_type": "code",
   "execution_count": 68,
   "id": "e2342f80",
   "metadata": {},
   "outputs": [],
   "source": [
    "feature_kind['famrel'] = 'cat'"
   ]
  },
  {
   "cell_type": "markdown",
   "id": "a0c13b87",
   "metadata": {},
   "source": [
    "### freetime\n",
    "_свободное время после школы (от 1 - очень мало до 5 - очень много)_"
   ]
  },
  {
   "cell_type": "markdown",
   "id": "ea2bdf1d",
   "metadata": {},
   "source": [
    "Числовой с пропусками. Должен содержать целые числа из заданного набора."
   ]
  },
  {
   "cell_type": "code",
   "execution_count": 69,
   "id": "ff4f0947",
   "metadata": {},
   "outputs": [
    {
     "data": {
      "text/plain": [
       "3.0    153\n",
       "4.0    112\n",
       "2.0     63\n",
       "5.0     38\n",
       "1.0     18\n",
       "NaN     11\n",
       "Name: freetime, dtype: int64"
      ]
     },
     "execution_count": 69,
     "metadata": {},
     "output_type": "execute_result"
    }
   ],
   "source": [
    "sm.freetime.value_counts(dropna=False)"
   ]
  },
  {
   "cell_type": "markdown",
   "id": "adac257c",
   "metadata": {},
   "source": [
    "Непропущенные значения из корректного набора."
   ]
  },
  {
   "cell_type": "code",
   "execution_count": 70,
   "id": "b0a3fd4c",
   "metadata": {},
   "outputs": [],
   "source": [
    "feature_kind['freetime'] = 'cat'"
   ]
  },
  {
   "cell_type": "markdown",
   "id": "6673e74e",
   "metadata": {},
   "source": [
    "### goout\n",
    "_проведение времени с друзьями (от 1 - очень мало до 5 - очень много)_"
   ]
  },
  {
   "cell_type": "markdown",
   "id": "3f3bf973",
   "metadata": {},
   "source": [
    "Числовой с пропусками. Должен содержать целые числа из заданного набора."
   ]
  },
  {
   "cell_type": "code",
   "execution_count": 71,
   "id": "f38a1518",
   "metadata": {},
   "outputs": [
    {
     "data": {
      "text/plain": [
       "3.0    127\n",
       "2.0    101\n",
       "4.0     84\n",
       "5.0     52\n",
       "1.0     23\n",
       "NaN      8\n",
       "Name: goout, dtype: int64"
      ]
     },
     "execution_count": 71,
     "metadata": {},
     "output_type": "execute_result"
    }
   ],
   "source": [
    "sm.goout.value_counts(dropna=False)"
   ]
  },
  {
   "cell_type": "markdown",
   "id": "e1894b1b",
   "metadata": {},
   "source": [
    "Непропущенные значения из корректного набора."
   ]
  },
  {
   "cell_type": "code",
   "execution_count": 72,
   "id": "3d9d654e",
   "metadata": {},
   "outputs": [],
   "source": [
    "feature_kind['goout'] = 'cat'"
   ]
  },
  {
   "cell_type": "markdown",
   "id": "1bc8a926",
   "metadata": {},
   "source": [
    "### health\n",
    "_текущее состояние здоровья (от 1 - очень плохо до 5 - очень хорошо)_"
   ]
  },
  {
   "cell_type": "markdown",
   "id": "a20aa67d",
   "metadata": {},
   "source": [
    "Числовой с пропусками. Должен содержать целые числа из заданного набора."
   ]
  },
  {
   "cell_type": "code",
   "execution_count": 73,
   "id": "c5d9c346",
   "metadata": {},
   "outputs": [
    {
     "data": {
      "text/plain": [
       "5.0    138\n",
       "3.0     89\n",
       "4.0     63\n",
       "1.0     47\n",
       "2.0     43\n",
       "NaN     15\n",
       "Name: health, dtype: int64"
      ]
     },
     "execution_count": 73,
     "metadata": {},
     "output_type": "execute_result"
    }
   ],
   "source": [
    "sm.health.value_counts(dropna=False)"
   ]
  },
  {
   "cell_type": "markdown",
   "id": "4e8c591c",
   "metadata": {},
   "source": [
    "Непропущенные значения из корректного набора."
   ]
  },
  {
   "cell_type": "code",
   "execution_count": 74,
   "id": "f7477cff",
   "metadata": {},
   "outputs": [],
   "source": [
    "feature_kind['health'] = 'cat'"
   ]
  },
  {
   "cell_type": "markdown",
   "id": "f51169bf",
   "metadata": {},
   "source": [
    "### absences\n",
    "_количество пропущенных занятий_"
   ]
  },
  {
   "cell_type": "markdown",
   "id": "65b416ec",
   "metadata": {},
   "source": [
    "Числовой с пропусками. Должен содержать неотрицательные целые числа."
   ]
  },
  {
   "cell_type": "code",
   "execution_count": 75,
   "id": "fd30e688",
   "metadata": {},
   "outputs": [
    {
     "data": {
      "text/plain": [
       "array([nan])"
      ]
     },
     "execution_count": 75,
     "metadata": {},
     "output_type": "execute_result"
    }
   ],
   "source": [
    "get_nonintegers(sm.absences)"
   ]
  },
  {
   "cell_type": "markdown",
   "id": "992ac283",
   "metadata": {},
   "source": [
    "Все числа целые."
   ]
  },
  {
   "cell_type": "code",
   "execution_count": 76,
   "id": "32287b3d",
   "metadata": {},
   "outputs": [
    {
     "data": {
      "text/plain": [
       "count    383.000000\n",
       "mean       7.279373\n",
       "std       23.465197\n",
       "min        0.000000\n",
       "25%        0.000000\n",
       "50%        4.000000\n",
       "75%        8.000000\n",
       "max      385.000000\n",
       "Name: absences, dtype: float64"
      ]
     },
     "execution_count": 76,
     "metadata": {},
     "output_type": "execute_result"
    }
   ],
   "source": [
    "sm.absences.describe()"
   ]
  },
  {
   "cell_type": "code",
   "execution_count": 77,
   "id": "29b04883",
   "metadata": {},
   "outputs": [
    {
     "data": {
      "text/plain": [
       "<AxesSubplot:>"
      ]
     },
     "execution_count": 77,
     "metadata": {},
     "output_type": "execute_result"
    },
    {
     "data": {
      "image/png": "[encoded data removed]",
      "text/plain": [
       "<Figure size 432x288 with 1 Axes>"
      ]
     },
     "metadata": {
      "needs_background": "light"
     },
     "output_type": "display_data"
    }
   ],
   "source": [
    "sm.absences.hist(bins=30)"
   ]
  },
  {
   "cell_type": "code",
   "execution_count": 78,
   "id": "11029b4f",
   "metadata": {},
   "outputs": [
    {
     "data": {
      "text/plain": [
       "(-12.0, 20.0)"
      ]
     },
     "execution_count": 78,
     "metadata": {},
     "output_type": "execute_result"
    }
   ],
   "source": [
    "get_out_bounds(sm.absences)"
   ]
  },
  {
   "cell_type": "markdown",
   "id": "23c325a9",
   "metadata": {},
   "source": [
    "Отрицательных нет. Есть сильно отклонившиеся выбросы. Заменим их на верхний квартиль плюс полтора межквартильных размаха."
   ]
  },
  {
   "cell_type": "code",
   "execution_count": 79,
   "id": "8e50aaea",
   "metadata": {},
   "outputs": [
    {
     "data": {
      "text/plain": [
       "20"
      ]
     },
     "execution_count": 79,
     "metadata": {},
     "output_type": "execute_result"
    }
   ],
   "source": [
    "highest = round(get_out_bounds(sm.absences)[1])\n",
    "highest"
   ]
  },
  {
   "cell_type": "code",
   "execution_count": 80,
   "id": "59af1149",
   "metadata": {},
   "outputs": [],
   "source": [
    "sm.absences.mask(sm.absences > highest, highest, inplace=True)"
   ]
  },
  {
   "cell_type": "code",
   "execution_count": 81,
   "id": "a368aaf8",
   "metadata": {},
   "outputs": [
    {
     "data": {
      "image/png": "[encoded data removed]",
      "text/plain": [
       "<Figure size 432x288 with 1 Axes>"
      ]
     },
     "metadata": {
      "needs_background": "light"
     },
     "output_type": "display_data"
    }
   ],
   "source": [
    "int_hist(sm.absences)"
   ]
  },
  {
   "cell_type": "markdown",
   "id": "7311ae13",
   "metadata": {},
   "source": [
    "Похоже, занятия сгруппированы по парам."
   ]
  },
  {
   "cell_type": "code",
   "execution_count": 82,
   "id": "3dd3a012",
   "metadata": {},
   "outputs": [],
   "source": [
    "feature_kind['absences'] = 'num'"
   ]
  },
  {
   "cell_type": "markdown",
   "id": "fd3e696e",
   "metadata": {},
   "source": [
    "### score\n",
    "_баллы по госэкзамену по математике_"
   ]
  },
  {
   "cell_type": "markdown",
   "id": "409bd294",
   "metadata": {},
   "source": [
    "Целевая переменная."
   ]
  },
  {
   "cell_type": "code",
   "execution_count": 83,
   "id": "a0544d01",
   "metadata": {},
   "outputs": [],
   "source": [
    "target = 'score'"
   ]
  },
  {
   "cell_type": "markdown",
   "id": "0a6e7cb4",
   "metadata": {},
   "source": [
    "Числовой с пропусками. Скорее всего, должен содержать неотрицательные целые числа, ограниченные сверху круглым числом."
   ]
  },
  {
   "cell_type": "code",
   "execution_count": 84,
   "id": "2d4a5841",
   "metadata": {},
   "outputs": [
    {
     "data": {
      "text/plain": [
       "array([nan])"
      ]
     },
     "execution_count": 84,
     "metadata": {},
     "output_type": "execute_result"
    }
   ],
   "source": [
    "get_nonintegers(sm.score)"
   ]
  },
  {
   "cell_type": "code",
   "execution_count": 85,
   "id": "7f894944",
   "metadata": {},
   "outputs": [
    {
     "data": {
      "text/plain": [
       "count    389.000000\n",
       "mean      52.262211\n",
       "std       22.919022\n",
       "min        0.000000\n",
       "25%       40.000000\n",
       "50%       55.000000\n",
       "75%       70.000000\n",
       "max      100.000000\n",
       "Name: score, dtype: float64"
      ]
     },
     "execution_count": 85,
     "metadata": {},
     "output_type": "execute_result"
    }
   ],
   "source": [
    "sm.score.describe()"
   ]
  },
  {
   "cell_type": "code",
   "execution_count": 86,
   "id": "6e273c51",
   "metadata": {},
   "outputs": [
    {
     "data": {
      "image/png": "[encoded data removed]",
      "text/plain": [
       "<Figure size 432x288 with 1 Axes>"
      ]
     },
     "metadata": {
      "needs_background": "light"
     },
     "output_type": "display_data"
    }
   ],
   "source": [
    "int_hist(sm.score)"
   ]
  },
  {
   "cell_type": "markdown",
   "id": "55591763",
   "metadata": {},
   "source": [
    "Неизвестно, является ли 0 валидным баллом или отсутствием данных. Судя по распределению — скорее второе."
   ]
  },
  {
   "cell_type": "markdown",
   "id": "cbb8431d",
   "metadata": {},
   "source": [
    "Поскольку столбец содержит целевую переменную, удаляем из датасета все строки, в которых он не заполнен."
   ]
  },
  {
   "cell_type": "code",
   "execution_count": 87,
   "id": "3b967602",
   "metadata": {},
   "outputs": [],
   "source": [
    "sm = sm[sm.score > 0]"
   ]
  },
  {
   "cell_type": "code",
   "execution_count": 88,
   "id": "6f29c12b",
   "metadata": {},
   "outputs": [
    {
     "data": {
      "image/png": "[encoded data removed]",
      "text/plain": [
       "<Figure size 432x288 with 1 Axes>"
      ]
     },
     "metadata": {
      "needs_background": "light"
     },
     "output_type": "display_data"
    }
   ],
   "source": [
    "int_hist(sm.score)"
   ]
  },
  {
   "cell_type": "code",
   "execution_count": 89,
   "id": "c35f3f74",
   "metadata": {},
   "outputs": [
    {
     "data": {
      "text/plain": [
       "(7.5, 107.5)"
      ]
     },
     "execution_count": 89,
     "metadata": {},
     "output_type": "execute_result"
    }
   ],
   "source": [
    "get_out_bounds(sm.score)"
   ]
  },
  {
   "cell_type": "markdown",
   "id": "35835911",
   "metadata": {},
   "source": [
    "Выглядит нормально. Выбросов нет."
   ]
  },
  {
   "cell_type": "code",
   "execution_count": 90,
   "id": "d67939fb",
   "metadata": {},
   "outputs": [],
   "source": [
    "assert not sm.columns.symmetric_difference(list(feature_kind.keys()) + [target]).size"
   ]
  },
  {
   "cell_type": "markdown",
   "id": "04ff7b8e",
   "metadata": {},
   "source": [
    "## Выделение значимых данных"
   ]
  },
  {
   "cell_type": "markdown",
   "id": "3d65c8d4",
   "metadata": {},
   "source": [
    "Определим столбцы, значимые для обучения. Целевая переменная к ним, естественно, относится."
   ]
  },
  {
   "cell_type": "code",
   "execution_count": 91,
   "id": "c357d4e3",
   "metadata": {},
   "outputs": [],
   "source": [
    "relevant_columns = {target}"
   ]
  },
  {
   "cell_type": "markdown",
   "id": "17ac3bc5",
   "metadata": {},
   "source": [
    "Рассмотрим числовые признаки."
   ]
  },
  {
   "cell_type": "code",
   "execution_count": 92,
   "id": "e783eccc",
   "metadata": {},
   "outputs": [
    {
     "data": {
      "text/plain": [
       "'age, absences'"
      ]
     },
     "execution_count": 92,
     "metadata": {},
     "output_type": "execute_result"
    }
   ],
   "source": [
    "num_features = [\n",
    "    column_name \n",
    "    for column_name, kind in feature_kind.items()\n",
    "    if column_name in sm.columns and kind == 'num'\n",
    "]\n",
    "', '.join(num_features)"
   ]
  },
  {
   "cell_type": "markdown",
   "id": "1530afa0",
   "metadata": {},
   "source": [
    "Их корреляция между собой и целевой переменной"
   ]
  },
  {
   "cell_type": "code",
   "execution_count": 93,
   "id": "4e501c3a",
   "metadata": {},
   "outputs": [
    {
     "data": {
      "text/plain": [
       "<seaborn.axisgrid.PairGrid at 0x7fcbe9668e80>"
      ]
     },
     "execution_count": 93,
     "metadata": {},
     "output_type": "execute_result"
    },
    {
     "data": {
      "image/png": "[encoded data removed]",
      "text/plain": [
       "<Figure size 540x540 with 12 Axes>"
      ]
     },
     "metadata": {
      "needs_background": "light"
     },
     "output_type": "display_data"
    }
   ],
   "source": [
    "sns.pairplot(sm[num_features + [target]], kind='reg')"
   ]
  },
  {
   "cell_type": "code",
   "execution_count": 94,
   "id": "9a8940e3",
   "metadata": {},
   "outputs": [
    {
     "data": {
      "text/html": [
       "<div>\n",
       "<style scoped>\n",
       "    .dataframe tbody tr th:only-of-type {\n",
       "        vertical-align: middle;\n",
       "    }\n",
       "\n",
       "    .dataframe tbody tr th {\n",
       "        vertical-align: top;\n",
       "    }\n",
       "\n",
       "    .dataframe thead th {\n",
       "        text-align: right;\n",
       "    }\n",
       "</style>\n",
       "<table border=\"1\" class=\"dataframe\">\n",
       "  <thead>\n",
       "    <tr style=\"text-align: right;\">\n",
       "      <th></th>\n",
       "      <th>age</th>\n",
       "      <th>absences</th>\n",
       "      <th>score</th>\n",
       "    </tr>\n",
       "  </thead>\n",
       "  <tbody>\n",
       "    <tr>\n",
       "      <th>age</th>\n",
       "      <td>1.000000</td>\n",
       "      <td>0.245044</td>\n",
       "      <td>-0.126294</td>\n",
       "    </tr>\n",
       "    <tr>\n",
       "      <th>absences</th>\n",
       "      <td>0.245044</td>\n",
       "      <td>1.000000</td>\n",
       "      <td>-0.230017</td>\n",
       "    </tr>\n",
       "    <tr>\n",
       "      <th>score</th>\n",
       "      <td>-0.126294</td>\n",
       "      <td>-0.230017</td>\n",
       "      <td>1.000000</td>\n",
       "    </tr>\n",
       "  </tbody>\n",
       "</table>\n",
       "</div>"
      ],
      "text/plain": [
       "               age  absences     score\n",
       "age       1.000000  0.245044 -0.126294\n",
       "absences  0.245044  1.000000 -0.230017\n",
       "score    -0.126294 -0.230017  1.000000"
      ]
     },
     "execution_count": 94,
     "metadata": {},
     "output_type": "execute_result"
    }
   ],
   "source": [
    "sm[num_features + [target]].corr()"
   ]
  },
  {
   "cell_type": "markdown",
   "id": "ac3ba407",
   "metadata": {},
   "source": [
    "Признаки коррелируют между собой не настолько сильно, чтобы исключать какой-то из них, и достаточно коррелируют с целевой переменной. Будем считать оба значимыми."
   ]
  },
  {
   "cell_type": "code",
   "execution_count": 95,
   "id": "c077e029",
   "metadata": {},
   "outputs": [],
   "source": [
    "relevant_columns.update(num_features)"
   ]
  },
  {
   "cell_type": "markdown",
   "id": "bacb26cb",
   "metadata": {},
   "source": [
    "Рассмотрим категориальные признаки."
   ]
  },
  {
   "cell_type": "code",
   "execution_count": 96,
   "id": "80fc8dce",
   "metadata": {},
   "outputs": [
    {
     "data": {
      "text/plain": [
       "'school, sex, address, famsize, p_status, m_edu, f_edu, m_job, f_job, reason, guardian, traveltime, studytime, failures, schoolsup, famsup, paid, activities, nursery, higher, internet, romantic, famrel, freetime, goout, health'"
      ]
     },
     "execution_count": 96,
     "metadata": {},
     "output_type": "execute_result"
    }
   ],
   "source": [
    "cat_features = [\n",
    "    column_name \n",
    "    for column_name, kind in feature_kind.items()\n",
    "    if column_name in sm.columns and kind == 'cat'\n",
    "]\n",
    "', '.join(cat_features)"
   ]
  },
  {
   "cell_type": "markdown",
   "id": "3209d4b4",
   "metadata": {},
   "source": [
    "Определим значимые с помощью теста Стьюдента."
   ]
  },
  {
   "cell_type": "code",
   "execution_count": 97,
   "id": "85bb19fc",
   "metadata": {},
   "outputs": [
    {
     "data": {
      "text/plain": [
       "'address, m_edu, f_edu, m_job, f_job, studytime, failures, schoolsup, goout'"
      ]
     },
     "execution_count": 97,
     "metadata": {},
     "output_type": "execute_result"
    }
   ],
   "source": [
    "relevant_cat_features = []\n",
    "\n",
    "for column_name in cat_features:\n",
    "    vals = sm[column_name].dropna().unique()\n",
    "    vals_combinations = list(itertools.combinations(vals, 2))\n",
    "    for val1, val2 in vals_combinations:\n",
    "        if st.ttest_ind(\n",
    "            sm[target][sm[column_name] == val1],\n",
    "            sm[target][sm[column_name] == val2],\n",
    "        ).pvalue < 0.05 / len(vals_combinations):\n",
    "            relevant_cat_features.append(column_name)\n",
    "            break\n",
    "    \n",
    "', '.join(relevant_cat_features)"
   ]
  },
  {
   "cell_type": "code",
   "execution_count": 98,
   "id": "31f7075f",
   "metadata": {},
   "outputs": [],
   "source": [
    "relevant_columns.update(relevant_cat_features)"
   ]
  },
  {
   "cell_type": "markdown",
   "id": "a37a7820",
   "metadata": {},
   "source": [
    "Посмотрим на их отношения с целевой переменной."
   ]
  },
  {
   "cell_type": "code",
   "execution_count": 99,
   "id": "138d21c1",
   "metadata": {
    "scrolled": false
   },
   "outputs": [
    {
     "data": {
      "image/png": "[encoded data removed]",
      "text/plain": [
       "<Figure size 216x288 with 1 Axes>"
      ]
     },
     "metadata": {
      "needs_background": "light"
     },
     "output_type": "display_data"
    },
    {
     "data": {
      "image/png": "[encoded data removed]",
      "text/plain": [
       "<Figure size 540x288 with 1 Axes>"
      ]
     },
     "metadata": {
      "needs_background": "light"
     },
     "output_type": "display_data"
    },
    {
     "data": {
      "image/png": "[encoded data removed]",
      "text/plain": [
       "<Figure size 540x288 with 1 Axes>"
      ]
     },
     "metadata": {
      "needs_background": "light"
     },
     "output_type": "display_data"
    },
    {
     "data": {
      "image/png": "[encoded data removed]",
      "text/plain": [
       "<Figure size 540x288 with 1 Axes>"
      ]
     },
     "metadata": {
      "needs_background": "light"
     },
     "output_type": "display_data"
    },
    {
     "data": {
      "image/png": "[encoded data removed]",
      "text/plain": [
       "<Figure size 540x288 with 1 Axes>"
      ]
     },
     "metadata": {
      "needs_background": "light"
     },
     "output_type": "display_data"
    },
    {
     "data": {
      "image/png": "[encoded data removed]",
      "text/plain": [
       "<Figure size 432x288 with 1 Axes>"
      ]
     },
     "metadata": {
      "needs_background": "light"
     },
     "output_type": "display_data"
    },
    {
     "data": {
      "image/png": "[encoded data removed]",
      "text/plain": [
       "<Figure size 432x288 with 1 Axes>"
      ]
     },
     "metadata": {
      "needs_background": "light"
     },
     "output_type": "display_data"
    },
    {
     "data": {
      "image/png": "[encoded data removed]",
      "text/plain": [
       "<Figure size 216x288 with 1 Axes>"
      ]
     },
     "metadata": {
      "needs_background": "light"
     },
     "output_type": "display_data"
    },
    {
     "data": {
      "image/png": "[encoded data removed]",
      "text/plain": [
       "<Figure size 540x288 with 1 Axes>"
      ]
     },
     "metadata": {
      "needs_background": "light"
     },
     "output_type": "display_data"
    }
   ],
   "source": [
    "for column_name in relevant_cat_features:\n",
    "    fig, ax = plt.subplots(\n",
    "        figsize=(\n",
    "            1.5 * sm[column_name].dropna().unique().size,\n",
    "            4\n",
    "        )\n",
    "    )\n",
    "    sns.boxplot(x=column_name, y=target, data=sm, ax=ax)"
   ]
  },
  {
   "cell_type": "markdown",
   "id": "ad81513f",
   "metadata": {},
   "source": [
    "Видны зависимости.\n",
    "\n",
    "Видно наличие некоторого количества выбросов, возможно, стоит обратить на них более подробное внимание.\n",
    "\n",
    "Возможно, стоит рассмотреть упорядоченные категориальные признаки (заданные числами) и категориальные признаки с двумя значениями в качестве числовых."
   ]
  },
  {
   "cell_type": "markdown",
   "id": "4ef17e4e",
   "metadata": {},
   "source": [
    "Оставим в датасете только значимые столбцы."
   ]
  },
  {
   "cell_type": "code",
   "execution_count": 100,
   "id": "fc21c104",
   "metadata": {},
   "outputs": [],
   "source": [
    "sm = sm[relevant_columns]"
   ]
  },
  {
   "cell_type": "markdown",
   "id": "032d701c",
   "metadata": {},
   "source": [
    "Допустим, наша модель требует отсутствия пропусков в обучающих данных. Попробуем просто оставить только строки, не содержащие пропуски."
   ]
  },
  {
   "cell_type": "code",
   "execution_count": 101,
   "id": "a44ddcd3",
   "metadata": {},
   "outputs": [
    {
     "data": {
      "text/plain": [
       "236"
      ]
     },
     "execution_count": 101,
     "metadata": {},
     "output_type": "execute_result"
    }
   ],
   "source": [
    "complete_rows = functools.reduce(\n",
    "    lambda a, b: a & b, \n",
    "    (col.notna() for _, col in sm.iteritems())\n",
    ")\n",
    "complete_rows.sum()"
   ]
  },
  {
   "cell_type": "markdown",
   "id": "51b2edb1",
   "metadata": {},
   "source": [
    "Останется достаточное количество данных. Оставляем только полные строки."
   ]
  },
  {
   "cell_type": "code",
   "execution_count": 102,
   "id": "bcffbb3b",
   "metadata": {},
   "outputs": [],
   "source": [
    "sm = sm[complete_rows]"
   ]
  },
  {
   "cell_type": "markdown",
   "id": "599c0d11",
   "metadata": {},
   "source": [
    "Итоговый датасет"
   ]
  },
  {
   "cell_type": "code",
   "execution_count": 103,
   "id": "77cbe378",
   "metadata": {},
   "outputs": [
    {
     "name": "stdout",
     "output_type": "stream",
     "text": [
      "<class 'pandas.core.frame.DataFrame'>\n",
      "Int64Index: 236 entries, 0 to 393\n",
      "Data columns (total 12 columns):\n",
      " #   Column     Non-Null Count  Dtype  \n",
      "---  ------     --------------  -----  \n",
      " 0   address    236 non-null    object \n",
      " 1   studytime  236 non-null    float64\n",
      " 2   failures   236 non-null    float64\n",
      " 3   absences   236 non-null    float64\n",
      " 4   m_edu      236 non-null    float64\n",
      " 5   schoolsup  236 non-null    object \n",
      " 6   score      236 non-null    float64\n",
      " 7   f_job      236 non-null    object \n",
      " 8   goout      236 non-null    float64\n",
      " 9   m_job      236 non-null    object \n",
      " 10  age        236 non-null    int64  \n",
      " 11  f_edu      236 non-null    float64\n",
      "dtypes: float64(7), int64(1), object(4)\n",
      "memory usage: 24.0+ KB\n"
     ]
    }
   ],
   "source": [
    "sm.info()"
   ]
  },
  {
   "cell_type": "markdown",
   "id": "60cb3abc",
   "metadata": {},
   "source": [
    "## Выводы"
   ]
  },
  {
   "cell_type": "markdown",
   "id": "4e12c418",
   "metadata": {},
   "source": [
    "* В данных довольно много пропусков. Нельзя сказать, что пропуски сосредоточены в какой-то части датасета. В значимых столбцах нашлось достаточное количество общих записей без пропусков.\n",
    "* В данных небольшое количество ошибок, за исключением нулевых score. Скорее всего, подавляющая часть статистических выбросов являются фактически верными значениями, а не ошибками.\n",
    "* Для построения модели предлагается использовать следующие столбцы: absences, address, age, f_edu, f_job, failures, goout, m_edu, m_job, schoolsup, studytime, score."
   ]
  }
 ],
 "metadata": {
  "celltoolbar": "Raw Cell Format",
  "kernelspec": {
   "display_name": "Python 3",
   "language": "python",
   "name": "python3"
  },
  "language_info": {
   "codemirror_mode": {
    "name": "ipython",
    "version": 3
   },
   "file_extension": ".py",
   "mimetype": "text/x-python",
   "name": "python",
   "nbconvert_exporter": "python",
   "pygments_lexer": "ipython3",
   "version": "3.8.8"
  }
 },
 "nbformat": 4,
 "nbformat_minor": 5
}
