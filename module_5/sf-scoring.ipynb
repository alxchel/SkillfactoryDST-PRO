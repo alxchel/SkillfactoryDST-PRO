{
 "cells": [
  {
   "cell_type": "code",
   "execution_count": 1,
   "id": "33d960a9",
   "metadata": {
    "_cell_guid": "b1076dfc-b9ad-4769-8c92-a6c4dae69d19",
    "_uuid": "8f2839f25d086af736a60e9eeb907d3b93b6e0e5",
    "papermill": {
     "duration": 0.038059,
     "end_time": "2022-01-26T21:03:15.217336",
     "exception": false,
     "start_time": "2022-01-26T21:03:15.179277",
     "status": "completed"
    },
    "tags": []
   },
   "outputs": [],
   "source": [
    "import os\n",
    "import warnings\n",
    "from typing import Sequence, Optional\n",
    "import numpy as np\n",
    "import pandas as pd\n",
    "import matplotlib.pyplot as plt\n",
    "import seaborn as sns\n",
    "from sklearn import preprocessing\n",
    "from sklearn.linear_model import LogisticRegression\n",
    "from sklearn.model_selection import GridSearchCV, train_test_split\n",
    "from sklearn import feature_selection\n",
    "from sklearn import metrics"
   ]
  },
  {
   "cell_type": "code",
   "execution_count": 2,
   "id": "25fe6627",
   "metadata": {
    "papermill": {
     "duration": 0.313585,
     "end_time": "2022-01-26T21:03:15.551028",
     "exception": false,
     "start_time": "2022-01-26T21:03:15.237443",
     "status": "completed"
    },
    "tags": []
   },
   "outputs": [],
   "source": [
    "DATA_DIR = '/kaggle/input/sf-scoring/'\n",
    "df_train = pd.read_csv(DATA_DIR +'/train.csv')\n",
    "df_test = pd.read_csv(DATA_DIR +'/test.csv')\n",
    "sample_submission = pd.read_csv(DATA_DIR+'/sample_submission.csv')"
   ]
  },
  {
   "cell_type": "code",
   "execution_count": 3,
   "id": "69d3f18c",
   "metadata": {
    "papermill": {
     "duration": 0.03121,
     "end_time": "2022-01-26T21:03:15.602665",
     "exception": false,
     "start_time": "2022-01-26T21:03:15.571455",
     "status": "completed"
    },
    "tags": []
   },
   "outputs": [
    {
     "data": {
      "text/plain": [
       "(36349, 2)"
      ]
     },
     "execution_count": 3,
     "metadata": {},
     "output_type": "execute_result"
    }
   ],
   "source": [
    "sample_submission.shape"
   ]
  },
  {
   "cell_type": "code",
   "execution_count": 4,
   "id": "758324e0",
   "metadata": {
    "papermill": {
     "duration": 0.026966,
     "end_time": "2022-01-26T21:03:15.650310",
     "exception": false,
     "start_time": "2022-01-26T21:03:15.623344",
     "status": "completed"
    },
    "tags": []
   },
   "outputs": [
    {
     "data": {
      "text/plain": [
       "(36349, 18)"
      ]
     },
     "execution_count": 4,
     "metadata": {},
     "output_type": "execute_result"
    }
   ],
   "source": [
    "df_test.shape"
   ]
  },
  {
   "cell_type": "code",
   "execution_count": 5,
   "id": "d0236e62",
   "metadata": {
    "papermill": {
     "duration": 0.067593,
     "end_time": "2022-01-26T21:03:15.738447",
     "exception": false,
     "start_time": "2022-01-26T21:03:15.670854",
     "status": "completed"
    },
    "tags": []
   },
   "outputs": [
    {
     "name": "stdout",
     "output_type": "stream",
     "text": [
      "<class 'pandas.core.frame.DataFrame'>\n",
      "RangeIndex: 73799 entries, 0 to 73798\n",
      "Data columns (total 19 columns):\n",
      " #   Column            Non-Null Count  Dtype  \n",
      "---  ------            --------------  -----  \n",
      " 0   client_id         73799 non-null  int64  \n",
      " 1   app_date          73799 non-null  object \n",
      " 2   education         73492 non-null  object \n",
      " 3   sex               73799 non-null  object \n",
      " 4   age               73799 non-null  int64  \n",
      " 5   car               73799 non-null  object \n",
      " 6   car_type          73799 non-null  object \n",
      " 7   decline_app_cnt   73799 non-null  int64  \n",
      " 8   good_work         73799 non-null  int64  \n",
      " 9   score_bki         73799 non-null  float64\n",
      " 10  bki_request_cnt   73799 non-null  int64  \n",
      " 11  region_rating     73799 non-null  int64  \n",
      " 12  home_address      73799 non-null  int64  \n",
      " 13  work_address      73799 non-null  int64  \n",
      " 14  income            73799 non-null  int64  \n",
      " 15  sna               73799 non-null  int64  \n",
      " 16  first_time        73799 non-null  int64  \n",
      " 17  foreign_passport  73799 non-null  object \n",
      " 18  default           73799 non-null  int64  \n",
      "dtypes: float64(1), int64(12), object(6)\n",
      "memory usage: 10.7+ MB\n"
     ]
    }
   ],
   "source": [
    "df_train.info()"
   ]
  },
  {
   "cell_type": "code",
   "execution_count": 6,
   "id": "18a0ca64",
   "metadata": {
    "papermill": {
     "duration": 0.041921,
     "end_time": "2022-01-26T21:03:15.802472",
     "exception": false,
     "start_time": "2022-01-26T21:03:15.760551",
     "status": "completed"
    },
    "tags": []
   },
   "outputs": [
    {
     "data": {
      "text/html": [
       "<div>\n",
       "<style scoped>\n",
       "    .dataframe tbody tr th:only-of-type {\n",
       "        vertical-align: middle;\n",
       "    }\n",
       "\n",
       "    .dataframe tbody tr th {\n",
       "        vertical-align: top;\n",
       "    }\n",
       "\n",
       "    .dataframe thead th {\n",
       "        text-align: right;\n",
       "    }\n",
       "</style>\n",
       "<table border=\"1\" class=\"dataframe\">\n",
       "  <thead>\n",
       "    <tr style=\"text-align: right;\">\n",
       "      <th></th>\n",
       "      <th>client_id</th>\n",
       "      <th>app_date</th>\n",
       "      <th>education</th>\n",
       "      <th>sex</th>\n",
       "      <th>age</th>\n",
       "      <th>car</th>\n",
       "      <th>car_type</th>\n",
       "      <th>decline_app_cnt</th>\n",
       "      <th>good_work</th>\n",
       "      <th>score_bki</th>\n",
       "      <th>bki_request_cnt</th>\n",
       "      <th>region_rating</th>\n",
       "      <th>home_address</th>\n",
       "      <th>work_address</th>\n",
       "      <th>income</th>\n",
       "      <th>sna</th>\n",
       "      <th>first_time</th>\n",
       "      <th>foreign_passport</th>\n",
       "      <th>default</th>\n",
       "    </tr>\n",
       "  </thead>\n",
       "  <tbody>\n",
       "    <tr>\n",
       "      <th>0</th>\n",
       "      <td>25905</td>\n",
       "      <td>01FEB2014</td>\n",
       "      <td>SCH</td>\n",
       "      <td>M</td>\n",
       "      <td>62</td>\n",
       "      <td>Y</td>\n",
       "      <td>Y</td>\n",
       "      <td>0</td>\n",
       "      <td>0</td>\n",
       "      <td>-2.008753</td>\n",
       "      <td>1</td>\n",
       "      <td>50</td>\n",
       "      <td>1</td>\n",
       "      <td>2</td>\n",
       "      <td>18000</td>\n",
       "      <td>4</td>\n",
       "      <td>1</td>\n",
       "      <td>N</td>\n",
       "      <td>0</td>\n",
       "    </tr>\n",
       "    <tr>\n",
       "      <th>1</th>\n",
       "      <td>63161</td>\n",
       "      <td>12MAR2014</td>\n",
       "      <td>SCH</td>\n",
       "      <td>F</td>\n",
       "      <td>59</td>\n",
       "      <td>N</td>\n",
       "      <td>N</td>\n",
       "      <td>0</td>\n",
       "      <td>0</td>\n",
       "      <td>-1.532276</td>\n",
       "      <td>3</td>\n",
       "      <td>50</td>\n",
       "      <td>2</td>\n",
       "      <td>3</td>\n",
       "      <td>19000</td>\n",
       "      <td>4</td>\n",
       "      <td>1</td>\n",
       "      <td>N</td>\n",
       "      <td>0</td>\n",
       "    </tr>\n",
       "    <tr>\n",
       "      <th>2</th>\n",
       "      <td>25887</td>\n",
       "      <td>01FEB2014</td>\n",
       "      <td>SCH</td>\n",
       "      <td>M</td>\n",
       "      <td>25</td>\n",
       "      <td>Y</td>\n",
       "      <td>N</td>\n",
       "      <td>2</td>\n",
       "      <td>0</td>\n",
       "      <td>-1.408142</td>\n",
       "      <td>1</td>\n",
       "      <td>80</td>\n",
       "      <td>1</td>\n",
       "      <td>2</td>\n",
       "      <td>30000</td>\n",
       "      <td>1</td>\n",
       "      <td>4</td>\n",
       "      <td>Y</td>\n",
       "      <td>0</td>\n",
       "    </tr>\n",
       "    <tr>\n",
       "      <th>3</th>\n",
       "      <td>16222</td>\n",
       "      <td>23JAN2014</td>\n",
       "      <td>SCH</td>\n",
       "      <td>F</td>\n",
       "      <td>53</td>\n",
       "      <td>N</td>\n",
       "      <td>N</td>\n",
       "      <td>0</td>\n",
       "      <td>0</td>\n",
       "      <td>-2.057471</td>\n",
       "      <td>2</td>\n",
       "      <td>50</td>\n",
       "      <td>2</td>\n",
       "      <td>3</td>\n",
       "      <td>10000</td>\n",
       "      <td>1</td>\n",
       "      <td>3</td>\n",
       "      <td>N</td>\n",
       "      <td>0</td>\n",
       "    </tr>\n",
       "    <tr>\n",
       "      <th>4</th>\n",
       "      <td>101655</td>\n",
       "      <td>18APR2014</td>\n",
       "      <td>GRD</td>\n",
       "      <td>M</td>\n",
       "      <td>48</td>\n",
       "      <td>N</td>\n",
       "      <td>N</td>\n",
       "      <td>0</td>\n",
       "      <td>1</td>\n",
       "      <td>-1.244723</td>\n",
       "      <td>1</td>\n",
       "      <td>60</td>\n",
       "      <td>2</td>\n",
       "      <td>3</td>\n",
       "      <td>30000</td>\n",
       "      <td>1</td>\n",
       "      <td>4</td>\n",
       "      <td>Y</td>\n",
       "      <td>0</td>\n",
       "    </tr>\n",
       "  </tbody>\n",
       "</table>\n",
       "</div>"
      ],
      "text/plain": [
       "   client_id   app_date education sex  age car car_type  decline_app_cnt  \\\n",
       "0      25905  01FEB2014       SCH   M   62   Y        Y                0   \n",
       "1      63161  12MAR2014       SCH   F   59   N        N                0   \n",
       "2      25887  01FEB2014       SCH   M   25   Y        N                2   \n",
       "3      16222  23JAN2014       SCH   F   53   N        N                0   \n",
       "4     101655  18APR2014       GRD   M   48   N        N                0   \n",
       "\n",
       "   good_work  score_bki  bki_request_cnt  region_rating  home_address  \\\n",
       "0          0  -2.008753                1             50             1   \n",
       "1          0  -1.532276                3             50             2   \n",
       "2          0  -1.408142                1             80             1   \n",
       "3          0  -2.057471                2             50             2   \n",
       "4          1  -1.244723                1             60             2   \n",
       "\n",
       "   work_address  income  sna  first_time foreign_passport  default  \n",
       "0             2   18000    4           1                N        0  \n",
       "1             3   19000    4           1                N        0  \n",
       "2             2   30000    1           4                Y        0  \n",
       "3             3   10000    1           3                N        0  \n",
       "4             3   30000    1           4                Y        0  "
      ]
     },
     "execution_count": 6,
     "metadata": {},
     "output_type": "execute_result"
    }
   ],
   "source": [
    "df_train.head(5)"
   ]
  },
  {
   "cell_type": "code",
   "execution_count": 7,
   "id": "5b10c53b",
   "metadata": {
    "papermill": {
     "duration": 0.057319,
     "end_time": "2022-01-26T21:03:15.881571",
     "exception": false,
     "start_time": "2022-01-26T21:03:15.824252",
     "status": "completed"
    },
    "tags": []
   },
   "outputs": [
    {
     "name": "stdout",
     "output_type": "stream",
     "text": [
      "<class 'pandas.core.frame.DataFrame'>\n",
      "RangeIndex: 36349 entries, 0 to 36348\n",
      "Data columns (total 18 columns):\n",
      " #   Column            Non-Null Count  Dtype  \n",
      "---  ------            --------------  -----  \n",
      " 0   client_id         36349 non-null  int64  \n",
      " 1   app_date          36349 non-null  object \n",
      " 2   education         36178 non-null  object \n",
      " 3   sex               36349 non-null  object \n",
      " 4   age               36349 non-null  int64  \n",
      " 5   car               36349 non-null  object \n",
      " 6   car_type          36349 non-null  object \n",
      " 7   decline_app_cnt   36349 non-null  int64  \n",
      " 8   good_work         36349 non-null  int64  \n",
      " 9   score_bki         36349 non-null  float64\n",
      " 10  bki_request_cnt   36349 non-null  int64  \n",
      " 11  region_rating     36349 non-null  int64  \n",
      " 12  home_address      36349 non-null  int64  \n",
      " 13  work_address      36349 non-null  int64  \n",
      " 14  income            36349 non-null  int64  \n",
      " 15  sna               36349 non-null  int64  \n",
      " 16  first_time        36349 non-null  int64  \n",
      " 17  foreign_passport  36349 non-null  object \n",
      "dtypes: float64(1), int64(11), object(6)\n",
      "memory usage: 5.0+ MB\n"
     ]
    }
   ],
   "source": [
    "df_test.info()"
   ]
  },
  {
   "cell_type": "code",
   "execution_count": 8,
   "id": "e8d18262",
   "metadata": {
    "papermill": {
     "duration": 0.030777,
     "end_time": "2022-01-26T21:03:15.935365",
     "exception": false,
     "start_time": "2022-01-26T21:03:15.904588",
     "status": "completed"
    },
    "tags": []
   },
   "outputs": [
    {
     "data": {
      "text/html": [
       "<div>\n",
       "<style scoped>\n",
       "    .dataframe tbody tr th:only-of-type {\n",
       "        vertical-align: middle;\n",
       "    }\n",
       "\n",
       "    .dataframe tbody tr th {\n",
       "        vertical-align: top;\n",
       "    }\n",
       "\n",
       "    .dataframe thead th {\n",
       "        text-align: right;\n",
       "    }\n",
       "</style>\n",
       "<table border=\"1\" class=\"dataframe\">\n",
       "  <thead>\n",
       "    <tr style=\"text-align: right;\">\n",
       "      <th></th>\n",
       "      <th>client_id</th>\n",
       "      <th>default</th>\n",
       "    </tr>\n",
       "  </thead>\n",
       "  <tbody>\n",
       "    <tr>\n",
       "      <th>0</th>\n",
       "      <td>74835</td>\n",
       "      <td>0</td>\n",
       "    </tr>\n",
       "    <tr>\n",
       "      <th>1</th>\n",
       "      <td>17527</td>\n",
       "      <td>0</td>\n",
       "    </tr>\n",
       "    <tr>\n",
       "      <th>2</th>\n",
       "      <td>75683</td>\n",
       "      <td>0</td>\n",
       "    </tr>\n",
       "    <tr>\n",
       "      <th>3</th>\n",
       "      <td>26883</td>\n",
       "      <td>0</td>\n",
       "    </tr>\n",
       "    <tr>\n",
       "      <th>4</th>\n",
       "      <td>28862</td>\n",
       "      <td>0</td>\n",
       "    </tr>\n",
       "  </tbody>\n",
       "</table>\n",
       "</div>"
      ],
      "text/plain": [
       "   client_id  default\n",
       "0      74835        0\n",
       "1      17527        0\n",
       "2      75683        0\n",
       "3      26883        0\n",
       "4      28862        0"
      ]
     },
     "execution_count": 8,
     "metadata": {},
     "output_type": "execute_result"
    }
   ],
   "source": [
    "sample_submission.head(5)"
   ]
  },
  {
   "cell_type": "code",
   "execution_count": 9,
   "id": "76462cce",
   "metadata": {
    "papermill": {
     "duration": 0.033627,
     "end_time": "2022-01-26T21:03:15.990425",
     "exception": false,
     "start_time": "2022-01-26T21:03:15.956798",
     "status": "completed"
    },
    "tags": []
   },
   "outputs": [
    {
     "name": "stdout",
     "output_type": "stream",
     "text": [
      "<class 'pandas.core.frame.DataFrame'>\n",
      "RangeIndex: 36349 entries, 0 to 36348\n",
      "Data columns (total 2 columns):\n",
      " #   Column     Non-Null Count  Dtype\n",
      "---  ------     --------------  -----\n",
      " 0   client_id  36349 non-null  int64\n",
      " 1   default    36349 non-null  int64\n",
      "dtypes: int64(2)\n",
      "memory usage: 568.1 KB\n"
     ]
    }
   ],
   "source": [
    "sample_submission.info()"
   ]
  },
  {
   "cell_type": "code",
   "execution_count": 10,
   "id": "6ce182c0",
   "metadata": {
    "papermill": {
     "duration": 0.07585,
     "end_time": "2022-01-26T21:03:16.088966",
     "exception": false,
     "start_time": "2022-01-26T21:03:16.013116",
     "status": "completed"
    },
    "tags": []
   },
   "outputs": [],
   "source": [
    "# ВАЖНО! дря корректной обработки признаков объединяем трейн и тест в один датасет\n",
    "df_train['sample'] = 1 # помечаем где у нас трейн\n",
    "df_test['sample'] = 0  # помечаем где у нас тест\n",
    "df_test['default'] = 0 # в тесте у нас нет значения default, мы его должны предсказать, по этому пока просто заполняем нулями\n",
    "\n",
    "data = df_test.append(df_train, sort=False).reset_index(drop=True) # объединяем"
   ]
  },
  {
   "cell_type": "code",
   "execution_count": 11,
   "id": "8b74f9d5",
   "metadata": {
    "papermill": {
     "duration": 0.05332,
     "end_time": "2022-01-26T21:03:16.623102",
     "exception": false,
     "start_time": "2022-01-26T21:03:16.569782",
     "status": "completed"
    },
    "tags": []
   },
   "outputs": [],
   "source": [
    "data.drop(['client_id','app_date',], axis = 1, inplace=True)"
   ]
  },
  {
   "cell_type": "code",
   "execution_count": 12,
   "id": "3fcdcf6a-d21d-46be-9c8d-cd99d63574db",
   "metadata": {},
   "outputs": [],
   "source": [
    "orig_data = data.copy()"
   ]
  },
  {
   "cell_type": "code",
   "execution_count": 13,
   "id": "f1dccfe1",
   "metadata": {
    "papermill": {
     "duration": 0.08633,
     "end_time": "2022-01-26T21:03:16.198779",
     "exception": false,
     "start_time": "2022-01-26T21:03:16.112449",
     "status": "completed"
    },
    "tags": []
   },
   "outputs": [
    {
     "data": {
      "text/plain": [
       "education                6\n",
       "sex                      2\n",
       "age                     52\n",
       "car                      2\n",
       "car_type                 2\n",
       "decline_app_cnt         24\n",
       "good_work                2\n",
       "score_bki           102618\n",
       "bki_request_cnt         40\n",
       "region_rating            7\n",
       "home_address             3\n",
       "work_address             3\n",
       "income                1207\n",
       "sna                      4\n",
       "first_time               4\n",
       "foreign_passport         2\n",
       "sample                   2\n",
       "default                  2\n",
       "dtype: int64"
      ]
     },
     "execution_count": 13,
     "metadata": {},
     "output_type": "execute_result"
    }
   ],
   "source": [
    "data.nunique(dropna=False)"
   ]
  },
  {
   "cell_type": "code",
   "execution_count": 14,
   "id": "353c5df6",
   "metadata": {
    "papermill": {
     "duration": 0.238897,
     "end_time": "2022-01-26T21:03:16.534544",
     "exception": false,
     "start_time": "2022-01-26T21:03:16.295647",
     "status": "completed"
    },
    "tags": []
   },
   "outputs": [
    {
     "data": {
      "text/plain": [
       "1      9372\n",
       "0    100776\n",
       "Name: default, dtype: int64"
      ]
     },
     "execution_count": 14,
     "metadata": {},
     "output_type": "execute_result"
    }
   ],
   "source": [
    "data['default'].value_counts(ascending=True)"
   ]
  },
  {
   "cell_type": "code",
   "execution_count": 15,
   "id": "51caa8ae",
   "metadata": {
    "papermill": {
     "duration": 0.041583,
     "end_time": "2022-01-26T21:03:16.273527",
     "exception": false,
     "start_time": "2022-01-26T21:03:16.231944",
     "status": "completed"
    },
    "tags": []
   },
   "outputs": [],
   "source": [
    "num_cols = ['age', 'score_bki', 'decline_app_cnt', 'bki_request_cnt', 'income']\n",
    "cat_cols = ['education', 'first_time', 'sna', 'work_address', 'home_address', 'region_rating']\n",
    "bin_cols = ['sex', 'car', 'car_type', 'good_work', 'foreign_passport']"
   ]
  },
  {
   "cell_type": "code",
   "execution_count": 16,
   "id": "09893fd2",
   "metadata": {
    "papermill": {
     "duration": 0.071592,
     "end_time": "2022-01-26T21:03:16.730463",
     "exception": false,
     "start_time": "2022-01-26T21:03:16.658871",
     "status": "completed"
    },
    "tags": []
   },
   "outputs": [],
   "source": [
    "data = pd.get_dummies(data, columns=['education'], dummy_na=True)"
   ]
  },
  {
   "cell_type": "code",
   "execution_count": 17,
   "id": "4fb902ba",
   "metadata": {
    "papermill": {
     "duration": 1.219001,
     "end_time": "2022-01-26T21:03:17.986188",
     "exception": false,
     "start_time": "2022-01-26T21:03:16.767187",
     "status": "completed"
    },
    "tags": []
   },
   "outputs": [],
   "source": [
    "le = preprocessing.LabelEncoder()\n",
    "\n",
    "for column in bin_cols:\n",
    "    data[column] = le.fit_transform(data[column])\n",
    "    \n",
    "columns = ['first_time', 'sna', 'work_address', 'home_address', 'region_rating']\n",
    "\n",
    "for column in columns:\n",
    "    data[column] = le.fit_transform(data[column])"
   ]
  },
  {
   "cell_type": "code",
   "execution_count": 18,
   "id": "52107e74",
   "metadata": {
    "papermill": {
     "duration": 0.055541,
     "end_time": "2022-01-26T21:03:18.077649",
     "exception": false,
     "start_time": "2022-01-26T21:03:18.022108",
     "status": "completed"
    },
    "tags": []
   },
   "outputs": [
    {
     "name": "stdout",
     "output_type": "stream",
     "text": [
      "<class 'pandas.core.frame.DataFrame'>\n",
      "RangeIndex: 110148 entries, 0 to 110147\n",
      "Data columns (total 23 columns):\n",
      " #   Column            Non-Null Count   Dtype  \n",
      "---  ------            --------------   -----  \n",
      " 0   sex               110148 non-null  int64  \n",
      " 1   age               110148 non-null  int64  \n",
      " 2   car               110148 non-null  int64  \n",
      " 3   car_type          110148 non-null  int64  \n",
      " 4   decline_app_cnt   110148 non-null  int64  \n",
      " 5   good_work         110148 non-null  int64  \n",
      " 6   score_bki         110148 non-null  float64\n",
      " 7   bki_request_cnt   110148 non-null  int64  \n",
      " 8   region_rating     110148 non-null  int64  \n",
      " 9   home_address      110148 non-null  int64  \n",
      " 10  work_address      110148 non-null  int64  \n",
      " 11  income            110148 non-null  int64  \n",
      " 12  sna               110148 non-null  int64  \n",
      " 13  first_time        110148 non-null  int64  \n",
      " 14  foreign_passport  110148 non-null  int64  \n",
      " 15  sample            110148 non-null  int64  \n",
      " 16  default           110148 non-null  int64  \n",
      " 17  education_ACD     110148 non-null  uint8  \n",
      " 18  education_GRD     110148 non-null  uint8  \n",
      " 19  education_PGR     110148 non-null  uint8  \n",
      " 20  education_SCH     110148 non-null  uint8  \n",
      " 21  education_UGR     110148 non-null  uint8  \n",
      " 22  education_nan     110148 non-null  uint8  \n",
      "dtypes: float64(1), int64(16), uint8(6)\n",
      "memory usage: 14.9 MB\n"
     ]
    }
   ],
   "source": [
    "data.info()"
   ]
  },
  {
   "cell_type": "code",
   "execution_count": 19,
   "id": "9f664b6d",
   "metadata": {
    "papermill": {
     "duration": 0.060621,
     "end_time": "2022-01-26T21:03:18.163026",
     "exception": false,
     "start_time": "2022-01-26T21:03:18.102405",
     "status": "completed"
    },
    "tags": []
   },
   "outputs": [
    {
     "data": {
      "text/html": [
       "<div>\n",
       "<style scoped>\n",
       "    .dataframe tbody tr th:only-of-type {\n",
       "        vertical-align: middle;\n",
       "    }\n",
       "\n",
       "    .dataframe tbody tr th {\n",
       "        vertical-align: top;\n",
       "    }\n",
       "\n",
       "    .dataframe thead th {\n",
       "        text-align: right;\n",
       "    }\n",
       "</style>\n",
       "<table border=\"1\" class=\"dataframe\">\n",
       "  <thead>\n",
       "    <tr style=\"text-align: right;\">\n",
       "      <th></th>\n",
       "      <th>sex</th>\n",
       "      <th>age</th>\n",
       "      <th>car</th>\n",
       "      <th>car_type</th>\n",
       "      <th>decline_app_cnt</th>\n",
       "      <th>good_work</th>\n",
       "      <th>score_bki</th>\n",
       "      <th>bki_request_cnt</th>\n",
       "      <th>region_rating</th>\n",
       "      <th>home_address</th>\n",
       "      <th>...</th>\n",
       "      <th>first_time</th>\n",
       "      <th>foreign_passport</th>\n",
       "      <th>sample</th>\n",
       "      <th>default</th>\n",
       "      <th>education_ACD</th>\n",
       "      <th>education_GRD</th>\n",
       "      <th>education_PGR</th>\n",
       "      <th>education_SCH</th>\n",
       "      <th>education_UGR</th>\n",
       "      <th>education_nan</th>\n",
       "    </tr>\n",
       "  </thead>\n",
       "  <tbody>\n",
       "    <tr>\n",
       "      <th>0</th>\n",
       "      <td>1</td>\n",
       "      <td>29</td>\n",
       "      <td>1</td>\n",
       "      <td>1</td>\n",
       "      <td>0</td>\n",
       "      <td>0</td>\n",
       "      <td>-2.271884</td>\n",
       "      <td>3</td>\n",
       "      <td>3</td>\n",
       "      <td>0</td>\n",
       "      <td>...</td>\n",
       "      <td>3</td>\n",
       "      <td>0</td>\n",
       "      <td>0</td>\n",
       "      <td>0</td>\n",
       "      <td>0</td>\n",
       "      <td>1</td>\n",
       "      <td>0</td>\n",
       "      <td>0</td>\n",
       "      <td>0</td>\n",
       "      <td>0</td>\n",
       "    </tr>\n",
       "    <tr>\n",
       "      <th>1</th>\n",
       "      <td>0</td>\n",
       "      <td>39</td>\n",
       "      <td>0</td>\n",
       "      <td>0</td>\n",
       "      <td>5</td>\n",
       "      <td>0</td>\n",
       "      <td>-1.504999</td>\n",
       "      <td>2</td>\n",
       "      <td>3</td>\n",
       "      <td>0</td>\n",
       "      <td>...</td>\n",
       "      <td>2</td>\n",
       "      <td>0</td>\n",
       "      <td>0</td>\n",
       "      <td>0</td>\n",
       "      <td>0</td>\n",
       "      <td>0</td>\n",
       "      <td>0</td>\n",
       "      <td>1</td>\n",
       "      <td>0</td>\n",
       "      <td>0</td>\n",
       "    </tr>\n",
       "    <tr>\n",
       "      <th>2</th>\n",
       "      <td>1</td>\n",
       "      <td>50</td>\n",
       "      <td>1</td>\n",
       "      <td>1</td>\n",
       "      <td>0</td>\n",
       "      <td>0</td>\n",
       "      <td>-1.691339</td>\n",
       "      <td>1</td>\n",
       "      <td>3</td>\n",
       "      <td>0</td>\n",
       "      <td>...</td>\n",
       "      <td>2</td>\n",
       "      <td>1</td>\n",
       "      <td>0</td>\n",
       "      <td>0</td>\n",
       "      <td>0</td>\n",
       "      <td>0</td>\n",
       "      <td>0</td>\n",
       "      <td>0</td>\n",
       "      <td>1</td>\n",
       "      <td>0</td>\n",
       "    </tr>\n",
       "    <tr>\n",
       "      <th>3</th>\n",
       "      <td>1</td>\n",
       "      <td>56</td>\n",
       "      <td>0</td>\n",
       "      <td>0</td>\n",
       "      <td>0</td>\n",
       "      <td>0</td>\n",
       "      <td>-2.374182</td>\n",
       "      <td>1</td>\n",
       "      <td>2</td>\n",
       "      <td>0</td>\n",
       "      <td>...</td>\n",
       "      <td>2</td>\n",
       "      <td>0</td>\n",
       "      <td>0</td>\n",
       "      <td>0</td>\n",
       "      <td>0</td>\n",
       "      <td>0</td>\n",
       "      <td>0</td>\n",
       "      <td>1</td>\n",
       "      <td>0</td>\n",
       "      <td>0</td>\n",
       "    </tr>\n",
       "    <tr>\n",
       "      <th>4</th>\n",
       "      <td>0</td>\n",
       "      <td>38</td>\n",
       "      <td>0</td>\n",
       "      <td>0</td>\n",
       "      <td>0</td>\n",
       "      <td>0</td>\n",
       "      <td>-2.487502</td>\n",
       "      <td>0</td>\n",
       "      <td>6</td>\n",
       "      <td>1</td>\n",
       "      <td>...</td>\n",
       "      <td>2</td>\n",
       "      <td>0</td>\n",
       "      <td>0</td>\n",
       "      <td>0</td>\n",
       "      <td>0</td>\n",
       "      <td>1</td>\n",
       "      <td>0</td>\n",
       "      <td>0</td>\n",
       "      <td>0</td>\n",
       "      <td>0</td>\n",
       "    </tr>\n",
       "    <tr>\n",
       "      <th>...</th>\n",
       "      <td>...</td>\n",
       "      <td>...</td>\n",
       "      <td>...</td>\n",
       "      <td>...</td>\n",
       "      <td>...</td>\n",
       "      <td>...</td>\n",
       "      <td>...</td>\n",
       "      <td>...</td>\n",
       "      <td>...</td>\n",
       "      <td>...</td>\n",
       "      <td>...</td>\n",
       "      <td>...</td>\n",
       "      <td>...</td>\n",
       "      <td>...</td>\n",
       "      <td>...</td>\n",
       "      <td>...</td>\n",
       "      <td>...</td>\n",
       "      <td>...</td>\n",
       "      <td>...</td>\n",
       "      <td>...</td>\n",
       "      <td>...</td>\n",
       "    </tr>\n",
       "    <tr>\n",
       "      <th>110143</th>\n",
       "      <td>0</td>\n",
       "      <td>45</td>\n",
       "      <td>0</td>\n",
       "      <td>0</td>\n",
       "      <td>0</td>\n",
       "      <td>0</td>\n",
       "      <td>-1.792064</td>\n",
       "      <td>3</td>\n",
       "      <td>3</td>\n",
       "      <td>0</td>\n",
       "      <td>...</td>\n",
       "      <td>3</td>\n",
       "      <td>0</td>\n",
       "      <td>1</td>\n",
       "      <td>0</td>\n",
       "      <td>0</td>\n",
       "      <td>1</td>\n",
       "      <td>0</td>\n",
       "      <td>0</td>\n",
       "      <td>0</td>\n",
       "      <td>0</td>\n",
       "    </tr>\n",
       "    <tr>\n",
       "      <th>110144</th>\n",
       "      <td>1</td>\n",
       "      <td>41</td>\n",
       "      <td>1</td>\n",
       "      <td>1</td>\n",
       "      <td>0</td>\n",
       "      <td>0</td>\n",
       "      <td>-2.058029</td>\n",
       "      <td>1</td>\n",
       "      <td>3</td>\n",
       "      <td>1</td>\n",
       "      <td>...</td>\n",
       "      <td>3</td>\n",
       "      <td>0</td>\n",
       "      <td>1</td>\n",
       "      <td>0</td>\n",
       "      <td>0</td>\n",
       "      <td>0</td>\n",
       "      <td>0</td>\n",
       "      <td>1</td>\n",
       "      <td>0</td>\n",
       "      <td>0</td>\n",
       "    </tr>\n",
       "    <tr>\n",
       "      <th>110145</th>\n",
       "      <td>1</td>\n",
       "      <td>31</td>\n",
       "      <td>0</td>\n",
       "      <td>0</td>\n",
       "      <td>0</td>\n",
       "      <td>0</td>\n",
       "      <td>-1.512635</td>\n",
       "      <td>4</td>\n",
       "      <td>6</td>\n",
       "      <td>1</td>\n",
       "      <td>...</td>\n",
       "      <td>1</td>\n",
       "      <td>0</td>\n",
       "      <td>1</td>\n",
       "      <td>0</td>\n",
       "      <td>0</td>\n",
       "      <td>0</td>\n",
       "      <td>0</td>\n",
       "      <td>1</td>\n",
       "      <td>0</td>\n",
       "      <td>0</td>\n",
       "    </tr>\n",
       "    <tr>\n",
       "      <th>110146</th>\n",
       "      <td>0</td>\n",
       "      <td>29</td>\n",
       "      <td>0</td>\n",
       "      <td>0</td>\n",
       "      <td>0</td>\n",
       "      <td>1</td>\n",
       "      <td>-1.479334</td>\n",
       "      <td>3</td>\n",
       "      <td>3</td>\n",
       "      <td>0</td>\n",
       "      <td>...</td>\n",
       "      <td>2</td>\n",
       "      <td>0</td>\n",
       "      <td>1</td>\n",
       "      <td>1</td>\n",
       "      <td>0</td>\n",
       "      <td>0</td>\n",
       "      <td>0</td>\n",
       "      <td>1</td>\n",
       "      <td>0</td>\n",
       "      <td>0</td>\n",
       "    </tr>\n",
       "    <tr>\n",
       "      <th>110147</th>\n",
       "      <td>1</td>\n",
       "      <td>34</td>\n",
       "      <td>0</td>\n",
       "      <td>0</td>\n",
       "      <td>0</td>\n",
       "      <td>0</td>\n",
       "      <td>-1.764711</td>\n",
       "      <td>2</td>\n",
       "      <td>3</td>\n",
       "      <td>1</td>\n",
       "      <td>...</td>\n",
       "      <td>2</td>\n",
       "      <td>0</td>\n",
       "      <td>1</td>\n",
       "      <td>0</td>\n",
       "      <td>0</td>\n",
       "      <td>1</td>\n",
       "      <td>0</td>\n",
       "      <td>0</td>\n",
       "      <td>0</td>\n",
       "      <td>0</td>\n",
       "    </tr>\n",
       "  </tbody>\n",
       "</table>\n",
       "<p>110148 rows × 23 columns</p>\n",
       "</div>"
      ],
      "text/plain": [
       "        sex  age  car  car_type  decline_app_cnt  good_work  score_bki  \\\n",
       "0         1   29    1         1                0          0  -2.271884   \n",
       "1         0   39    0         0                5          0  -1.504999   \n",
       "2         1   50    1         1                0          0  -1.691339   \n",
       "3         1   56    0         0                0          0  -2.374182   \n",
       "4         0   38    0         0                0          0  -2.487502   \n",
       "...     ...  ...  ...       ...              ...        ...        ...   \n",
       "110143    0   45    0         0                0          0  -1.792064   \n",
       "110144    1   41    1         1                0          0  -2.058029   \n",
       "110145    1   31    0         0                0          0  -1.512635   \n",
       "110146    0   29    0         0                0          1  -1.479334   \n",
       "110147    1   34    0         0                0          0  -1.764711   \n",
       "\n",
       "        bki_request_cnt  region_rating  home_address  ...  first_time  \\\n",
       "0                     3              3             0  ...           3   \n",
       "1                     2              3             0  ...           2   \n",
       "2                     1              3             0  ...           2   \n",
       "3                     1              2             0  ...           2   \n",
       "4                     0              6             1  ...           2   \n",
       "...                 ...            ...           ...  ...         ...   \n",
       "110143                3              3             0  ...           3   \n",
       "110144                1              3             1  ...           3   \n",
       "110145                4              6             1  ...           1   \n",
       "110146                3              3             0  ...           2   \n",
       "110147                2              3             1  ...           2   \n",
       "\n",
       "        foreign_passport  sample  default  education_ACD  education_GRD  \\\n",
       "0                      0       0        0              0              1   \n",
       "1                      0       0        0              0              0   \n",
       "2                      1       0        0              0              0   \n",
       "3                      0       0        0              0              0   \n",
       "4                      0       0        0              0              1   \n",
       "...                  ...     ...      ...            ...            ...   \n",
       "110143                 0       1        0              0              1   \n",
       "110144                 0       1        0              0              0   \n",
       "110145                 0       1        0              0              0   \n",
       "110146                 0       1        1              0              0   \n",
       "110147                 0       1        0              0              1   \n",
       "\n",
       "        education_PGR  education_SCH  education_UGR  education_nan  \n",
       "0                   0              0              0              0  \n",
       "1                   0              1              0              0  \n",
       "2                   0              0              1              0  \n",
       "3                   0              1              0              0  \n",
       "4                   0              0              0              0  \n",
       "...               ...            ...            ...            ...  \n",
       "110143              0              0              0              0  \n",
       "110144              0              1              0              0  \n",
       "110145              0              1              0              0  \n",
       "110146              0              1              0              0  \n",
       "110147              0              0              0              0  \n",
       "\n",
       "[110148 rows x 23 columns]"
      ]
     },
     "execution_count": 19,
     "metadata": {},
     "output_type": "execute_result"
    }
   ],
   "source": [
    "data"
   ]
  },
  {
   "cell_type": "code",
   "execution_count": 20,
   "id": "91bb0898-06ca-44b7-9d53-526adb03d76c",
   "metadata": {},
   "outputs": [],
   "source": [
    "class Predictor:\n",
    "    def __init__(self, feature_columns_list: Sequence[pd.DataFrame], model_params: Optional[dict]=None):\n",
    "        df = orig_data[['default', 'sample']].copy()\n",
    "        for feature_columns in feature_columns_list:\n",
    "            df[feature_columns.columns] = feature_columns\n",
    "        self.df = df\n",
    "        self.model_params = {} if model_params is None else model_params\n",
    "        \n",
    "    def assess(self):\n",
    "        train_data = self.df.query('sample == 1').drop(['sample'], axis=1)\n",
    "        y = train_data['default'].values\n",
    "        X = train_data.drop(['default'], axis=1)\n",
    "        X_train, X_test, y_train, y_test = train_test_split(X, y, test_size=0.2, random_state=42)\n",
    "        self.model = LogisticRegression(random_state=42, **self.model_params)\n",
    "        self.model.fit(X_train, y_train)\n",
    "        y_pred = np.transpose(self.model.predict_proba(X_test))[1]\n",
    "        classification_report = metrics.classification_report(y_test, y_pred > 0.5, zero_division=0)\n",
    "        classification_report_dict = metrics.classification_report(y_test, y_pred > 0.5, zero_division=0, output_dict=True)        \n",
    "        roc_auc = metrics.roc_auc_score(y_test, y_pred)\n",
    "        print(classification_report)\n",
    "        print(f'     ROC AUC {roc_auc:10.2f}')\n",
    "        mean_f1 = np.mean((\n",
    "            classification_report_dict['0']['f1-score'], \n",
    "            classification_report_dict['1']['f1-score']\n",
    "        ))\n",
    "        return mean_f1, roc_auc\n",
    "    \n",
    "    def optimize_model_params(self, max_iter=1000, tol=1e-4) -> dict:\n",
    "        train_data = self.df.query('sample == 1').drop(['sample'], axis=1)\n",
    "        y = train_data['default'].values\n",
    "        X = train_data.drop(['default'], axis=1)\n",
    "        model = LogisticRegression(random_state=42)\n",
    "        param_grid = [\n",
    "            {\n",
    "                'penalty': ['l1'], \n",
    "                'solver': ['liblinear'], \n",
    "                'class_weight':[None, 'balanced'], \n",
    "                'multi_class': ['auto','ovr'], \n",
    "                'max_iter':[max_iter],\n",
    "                'tol':[tol],\n",
    "            },\n",
    "            {\n",
    "                'penalty': ['l2'], \n",
    "                'solver': ['newton-cg', 'lbfgs', 'liblinear', 'sag', 'saga'], \n",
    "                'class_weight':[None, 'balanced'], \n",
    "                'multi_class': ['auto','ovr'], \n",
    "                'max_iter':[max_iter],\n",
    "                'tol':[tol],\n",
    "            },\n",
    "            {\n",
    "                'penalty': ['none'], \n",
    "                'solver': ['newton-cg', 'lbfgs', 'sag', 'saga'], \n",
    "                'class_weight':[None, 'balanced'], \n",
    "                'multi_class': ['auto','ovr'], \n",
    "                'max_iter':[max_iter],\n",
    "                'tol':[tol],\n",
    "            },\n",
    "        ]\n",
    "        gridsearch = GridSearchCV(model, param_grid, scoring='f1', n_jobs=-1, cv=5)\n",
    "        warnings.simplefilter('ignore')\n",
    "        os.environ[\"PYTHONWARNINGS\"] = \"ignore\" \n",
    "        try:\n",
    "            gridsearch.fit(X, y)\n",
    "        finally:\n",
    "            del os.environ[\"PYTHONWARNINGS\"]\n",
    "            warnings.resetwarnings()\n",
    "        self.model_params = gridsearch.best_params_\n",
    "        return self.model_params\n",
    "        \n",
    "        \n",
    "    def final_predict(self) -> np.ndarray:\n",
    "        test_data = self.df.query('sample == 0').drop(['sample', 'default'], axis=1)\n",
    "        y_pred = self.model.predict(test_data)\n",
    "        return y_pred"
   ]
  },
  {
   "cell_type": "code",
   "execution_count": 21,
   "id": "43a7a26b-8b3b-41ff-8c0f-66ee191e9124",
   "metadata": {},
   "outputs": [
    {
     "name": "stdout",
     "output_type": "stream",
     "text": [
      "              precision    recall  f1-score   support\n",
      "\n",
      "           0       0.88      1.00      0.93     12933\n",
      "           1       0.00      0.00      0.00      1827\n",
      "\n",
      "    accuracy                           0.88     14760\n",
      "   macro avg       0.44      0.50      0.47     14760\n",
      "weighted avg       0.77      0.88      0.82     14760\n",
      "\n",
      "     ROC AUC       0.55\n"
     ]
    },
    {
     "data": {
      "text/plain": [
       "(0.46701332466688333, 0.5519255464703756)"
      ]
     },
     "execution_count": 21,
     "metadata": {},
     "output_type": "execute_result"
    }
   ],
   "source": [
    "Predictor([data]).assess()"
   ]
  },
  {
   "cell_type": "code",
   "execution_count": 22,
   "id": "6641f3b0-dcba-41dd-a422-881733256825",
   "metadata": {},
   "outputs": [],
   "source": [
    "baseline_params = Predictor([data]).optimize_model_params(max_iter=50, tol=1e-3)"
   ]
  },
  {
   "cell_type": "code",
   "execution_count": 23,
   "id": "fe1aff91-4c85-47d0-b0f4-5934f13cc959",
   "metadata": {},
   "outputs": [
    {
     "name": "stdout",
     "output_type": "stream",
     "text": [
      "class_weight    'balanced'\n",
      "max_iter        1000\n",
      "multi_class     'auto'\n",
      "penalty         'l1'\n",
      "solver          'liblinear'\n",
      "tol             0.0001\n"
     ]
    }
   ],
   "source": [
    "baseline_params['tol'] = 1e-4\n",
    "baseline_params['max_iter'] = 1000\n",
    "print('\\n'.join(f'{k:15s} {repr(v)}' for k, v in baseline_params.items()))"
   ]
  },
  {
   "cell_type": "code",
   "execution_count": 24,
   "id": "576de123-5de6-4e90-bd58-4a89c961c910",
   "metadata": {},
   "outputs": [
    {
     "name": "stdout",
     "output_type": "stream",
     "text": [
      "              precision    recall  f1-score   support\n",
      "\n",
      "           0       0.94      0.67      0.78     12933\n",
      "           1       0.22      0.68      0.34      1827\n",
      "\n",
      "    accuracy                           0.67     14760\n",
      "   macro avg       0.58      0.67      0.56     14760\n",
      "weighted avg       0.85      0.67      0.73     14760\n",
      "\n",
      "     ROC AUC       0.74\n"
     ]
    },
    {
     "data": {
      "text/plain": [
       "(0.5586334281187222, 0.7364063731095942)"
      ]
     },
     "execution_count": 24,
     "metadata": {},
     "output_type": "execute_result"
    }
   ],
   "source": [
    "Predictor([data], baseline_params).assess()"
   ]
  },
  {
   "cell_type": "code",
   "execution_count": 25,
   "id": "7a2b7e60-81fe-4ee5-8ab3-bfe38a07a4f8",
   "metadata": {},
   "outputs": [],
   "source": [
    "df_num = orig_data[num_cols].copy()\n",
    "df_cat = orig_data[cat_cols].copy()\n",
    "df_bin = orig_data[bin_cols].copy()"
   ]
  },
  {
   "cell_type": "code",
   "execution_count": 26,
   "id": "88a4e6c7-d026-4ccc-951c-a58839b24eb0",
   "metadata": {},
   "outputs": [],
   "source": [
    "df_cat = pd.get_dummies(df_cat, columns=['education'], dummy_na=True)"
   ]
  },
  {
   "cell_type": "code",
   "execution_count": 27,
   "id": "eef70335-4d92-41ae-879f-862161c0f59e",
   "metadata": {},
   "outputs": [],
   "source": [
    "for column in bin_cols:\n",
    "    df_bin[column] = le.fit_transform(df_bin[column])\n",
    "    \n",
    "columns = ['first_time', 'sna', 'work_address', 'home_address', 'region_rating']\n",
    "\n",
    "for column in columns:\n",
    "    df_cat[column] = le.fit_transform(df_cat[column])"
   ]
  },
  {
   "cell_type": "code",
   "execution_count": 28,
   "id": "ccc42cf5-19cf-4981-8ad2-af2fec87d268",
   "metadata": {},
   "outputs": [
    {
     "name": "stdout",
     "output_type": "stream",
     "text": [
      "              precision    recall  f1-score   support\n",
      "\n",
      "           0       0.94      0.67      0.78     12933\n",
      "           1       0.22      0.68      0.34      1827\n",
      "\n",
      "    accuracy                           0.67     14760\n",
      "   macro avg       0.58      0.67      0.56     14760\n",
      "weighted avg       0.85      0.67      0.73     14760\n",
      "\n",
      "     ROC AUC       0.74\n"
     ]
    },
    {
     "data": {
      "text/plain": [
       "(0.5581400360000885, 0.7363706113496146)"
      ]
     },
     "execution_count": 28,
     "metadata": {},
     "output_type": "execute_result"
    }
   ],
   "source": [
    "Predictor([df_num, df_cat, df_bin], baseline_params).assess()"
   ]
  },
  {
   "cell_type": "code",
   "execution_count": 29,
   "id": "bbc5bbcb-68df-4737-bf42-4d0dc59d5e21",
   "metadata": {},
   "outputs": [],
   "source": [
    "def show_dists(df: pd.DataFrame):\n",
    "    for column in df.columns:\n",
    "        plt.figure(figsize=(15, 4))\n",
    "        plt.title(column)\n",
    "        plt.subplot(1, 2, 1)\n",
    "        df[column].hist(bins=50)\n",
    "        plt.subplot(1, 2, 2)\n",
    "        df.boxplot(column)\n",
    "        plt.show()        "
   ]
  },
  {
   "cell_type": "code",
   "execution_count": 30,
   "id": "070d6bab-5c58-458f-8eca-ba13aa7694c1",
   "metadata": {},
   "outputs": [
    {
     "data": {
      "image/png": "[encoded data removed]",
      "text/plain": [
       "<Figure size 1080x288 with 2 Axes>"
      ]
     },
     "metadata": {
      "needs_background": "light"
     },
     "output_type": "display_data"
    },
    {
     "data": {
      "image/png": "[encoded data removed]",
      "text/plain": [
       "<Figure size 1080x288 with 2 Axes>"
      ]
     },
     "metadata": {
      "needs_background": "light"
     },
     "output_type": "display_data"
    },
    {
     "data": {
      "image/png": "[encoded data removed]",
      "text/plain": [
       "<Figure size 1080x288 with 2 Axes>"
      ]
     },
     "metadata": {
      "needs_background": "light"
     },
     "output_type": "display_data"
    },
    {
     "data": {
      "image/png": "[encoded data removed]",
      "text/plain": [
       "<Figure size 1080x288 with 2 Axes>"
      ]
     },
     "metadata": {
      "needs_background": "light"
     },
     "output_type": "display_data"
    },
    {
     "data": {
      "image/png": "[encoded data removed]",
      "text/plain": [
       "<Figure size 1080x288 with 2 Axes>"
      ]
     },
     "metadata": {
      "needs_background": "light"
     },
     "output_type": "display_data"
    }
   ],
   "source": [
    "show_dists(df_num)"
   ]
  },
  {
   "cell_type": "code",
   "execution_count": 31,
   "id": "a3f22031-f1f2-4086-99ab-5d8de6cc4aa2",
   "metadata": {},
   "outputs": [
    {
     "data": {
      "image/png": "[encoded data removed]",
      "text/plain": [
       "<Figure size 1080x288 with 2 Axes>"
      ]
     },
     "metadata": {
      "needs_background": "light"
     },
     "output_type": "display_data"
    },
    {
     "data": {
      "image/png": "[encoded data removed]",
      "text/plain": [
       "<Figure size 1080x288 with 2 Axes>"
      ]
     },
     "metadata": {
      "needs_background": "light"
     },
     "output_type": "display_data"
    },
    {
     "data": {
      "image/png": "[encoded data removed]",
      "text/plain": [
       "<Figure size 1080x288 with 2 Axes>"
      ]
     },
     "metadata": {
      "needs_background": "light"
     },
     "output_type": "display_data"
    },
    {
     "data": {
      "image/png": "[encoded data removed]",
      "text/plain": [
       "<Figure size 1080x288 with 2 Axes>"
      ]
     },
     "metadata": {
      "needs_background": "light"
     },
     "output_type": "display_data"
    },
    {
     "data": {
      "image/png": "[encoded data removed]",
      "text/plain": [
       "<Figure size 1080x288 with 2 Axes>"
      ]
     },
     "metadata": {
      "needs_background": "light"
     },
     "output_type": "display_data"
    }
   ],
   "source": [
    "df_num2 = df_num.copy()\n",
    "\n",
    "for column in df_num2.columns:\n",
    "    if column not in ['decline_app_cnt']:\n",
    "        ser = df_num2[column]\n",
    "        Q1 = ser.quantile(0.25)\n",
    "        Q3 = ser.quantile(0.75)\n",
    "        IQR = Q3 -Q1\n",
    "        df_num2[column] = np.maximum(np.minimum(ser, Q3 + IQR), Q1 - IQR)\n",
    "\n",
    "df_num2[df_num2.columns] = preprocessing.StandardScaler().fit_transform(df_num2)\n",
    "        \n",
    "show_dists(df_num2)"
   ]
  },
  {
   "cell_type": "code",
   "execution_count": 32,
   "id": "873cf1a0-0693-4af8-b3c2-fb43a74f749b",
   "metadata": {},
   "outputs": [
    {
     "name": "stdout",
     "output_type": "stream",
     "text": [
      "              precision    recall  f1-score   support\n",
      "\n",
      "           0       0.94      0.66      0.78     12933\n",
      "           1       0.22      0.68      0.34      1827\n",
      "\n",
      "    accuracy                           0.67     14760\n",
      "   macro avg       0.58      0.67      0.56     14760\n",
      "weighted avg       0.85      0.67      0.72     14760\n",
      "\n",
      "     ROC AUC       0.74\n"
     ]
    },
    {
     "data": {
      "text/plain": [
       "(0.5565610203606624, 0.7375179501816252)"
      ]
     },
     "execution_count": 32,
     "metadata": {},
     "output_type": "execute_result"
    }
   ],
   "source": [
    "Predictor([df_num2, df_cat, df_bin], baseline_params).assess()"
   ]
  },
  {
   "cell_type": "code",
   "execution_count": 33,
   "id": "6df1a978-dec5-4eb2-a15f-7c2590714078",
   "metadata": {},
   "outputs": [
    {
     "data": {
      "image/png": "[encoded data removed]",
      "text/plain": [
       "<Figure size 1080x288 with 2 Axes>"
      ]
     },
     "metadata": {
      "needs_background": "light"
     },
     "output_type": "display_data"
    },
    {
     "data": {
      "image/png": "[encoded data removed]",
      "text/plain": [
       "<Figure size 1080x288 with 2 Axes>"
      ]
     },
     "metadata": {
      "needs_background": "light"
     },
     "output_type": "display_data"
    },
    {
     "data": {
      "image/png": "[encoded data removed]",
      "text/plain": [
       "<Figure size 1080x288 with 2 Axes>"
      ]
     },
     "metadata": {
      "needs_background": "light"
     },
     "output_type": "display_data"
    },
    {
     "data": {
      "image/png": "[encoded data removed]",
      "text/plain": [
       "<Figure size 1080x288 with 2 Axes>"
      ]
     },
     "metadata": {
      "needs_background": "light"
     },
     "output_type": "display_data"
    },
    {
     "data": {
      "image/png": "[encoded data removed]",
      "text/plain": [
       "<Figure size 1080x288 with 2 Axes>"
      ]
     },
     "metadata": {
      "needs_background": "light"
     },
     "output_type": "display_data"
    }
   ],
   "source": [
    "df_num3 = df_num.copy()\n",
    "\n",
    "for column in df_num3.columns:\n",
    "    if column not in ['score_bki']:\n",
    "        ser = df_num2[column]\n",
    "        df_num3[column] = np.log(ser - (ser.min() - 1.0))\n",
    "        \n",
    "df_num3[df_num3.columns] = preprocessing.StandardScaler().fit_transform(df_num3)\n",
    "        \n",
    "show_dists(df_num3)"
   ]
  },
  {
   "cell_type": "code",
   "execution_count": 34,
   "id": "80b47437-6696-4288-81ea-cef35b725ddd",
   "metadata": {},
   "outputs": [
    {
     "name": "stdout",
     "output_type": "stream",
     "text": [
      "              precision    recall  f1-score   support\n",
      "\n",
      "           0       0.94      0.67      0.78     12933\n",
      "           1       0.22      0.68      0.34      1827\n",
      "\n",
      "    accuracy                           0.67     14760\n",
      "   macro avg       0.58      0.67      0.56     14760\n",
      "weighted avg       0.85      0.67      0.72     14760\n",
      "\n",
      "     ROC AUC       0.74\n"
     ]
    },
    {
     "data": {
      "text/plain": [
       "(0.5576436465594714, 0.7387123506433371)"
      ]
     },
     "execution_count": 34,
     "metadata": {},
     "output_type": "execute_result"
    }
   ],
   "source": [
    "Predictor([df_num3, df_cat, df_bin], baseline_params).assess()"
   ]
  },
  {
   "cell_type": "code",
   "execution_count": 35,
   "id": "2c263db3-7771-4e17-9dda-d8c1a83abde0",
   "metadata": {},
   "outputs": [
    {
     "data": {
      "text/plain": [
       "<AxesSubplot:>"
      ]
     },
     "execution_count": 35,
     "metadata": {},
     "output_type": "execute_result"
    },
    {
     "data": {
      "image/png": "[encoded data removed]",
      "text/plain": [
       "<Figure size 432x288 with 2 Axes>"
      ]
     },
     "metadata": {
      "needs_background": "light"
     },
     "output_type": "display_data"
    }
   ],
   "source": [
    "sns.heatmap(df_num3.corr().abs(), vmin=0, vmax=1, annot=True)"
   ]
  },
  {
   "cell_type": "code",
   "execution_count": 36,
   "id": "07874e03-d30e-45d7-98db-235dc1d420c6",
   "metadata": {},
   "outputs": [
    {
     "data": {
      "text/plain": [
       "<AxesSubplot:>"
      ]
     },
     "execution_count": 36,
     "metadata": {},
     "output_type": "execute_result"
    },
    {
     "data": {
      "image/png": "[encoded data removed]",
      "text/plain": [
       "<Figure size 432x288 with 1 Axes>"
      ]
     },
     "metadata": {
      "needs_background": "light"
     },
     "output_type": "display_data"
    }
   ],
   "source": [
    "pd.Series(feature_selection.f_classif(df_num3, orig_data['default'])[0], index=df_num3.columns).sort_values().plot(kind='barh')"
   ]
  },
  {
   "cell_type": "code",
   "execution_count": 37,
   "id": "02d01d67-7f13-4a7f-b229-e17defd75817",
   "metadata": {},
   "outputs": [
    {
     "name": "stdout",
     "output_type": "stream",
     "text": [
      "              precision    recall  f1-score   support\n",
      "\n",
      "           0       0.94      0.67      0.78     12933\n",
      "           1       0.22      0.68      0.34      1827\n",
      "\n",
      "    accuracy                           0.67     14760\n",
      "   macro avg       0.58      0.67      0.56     14760\n",
      "weighted avg       0.85      0.67      0.72     14760\n",
      "\n",
      "     ROC AUC       0.74\n"
     ]
    },
    {
     "data": {
      "text/plain": [
       "(0.5586773845966297, 0.7385079372697254)"
      ]
     },
     "execution_count": 37,
     "metadata": {},
     "output_type": "execute_result"
    }
   ],
   "source": [
    "df_num4 = df_num3.copy()\n",
    "df_num4.drop(['age'], axis=1, inplace=True)\n",
    "\n",
    "Predictor([df_num4, df_cat, df_bin], baseline_params).assess()"
   ]
  },
  {
   "cell_type": "code",
   "execution_count": 38,
   "id": "ded94a80-e9e8-4908-98c8-df3fcb01973e",
   "metadata": {},
   "outputs": [
    {
     "data": {
      "image/png": "[encoded data removed]",
      "text/plain": [
       "<Figure size 432x288 with 1 Axes>"
      ]
     },
     "metadata": {
      "needs_background": "light"
     },
     "output_type": "display_data"
    }
   ],
   "source": [
    "with warnings.catch_warnings():\n",
    "    warnings.filterwarnings('ignore', '`np.int` is a deprecated')\n",
    "    pd.Series(\n",
    "        feature_selection.mutual_info_classif(\n",
    "            pd.concat([df_bin, df_cat], axis=1), \n",
    "            orig_data['default'], \n",
    "            discrete_features=True\n",
    "        ), \n",
    "        index=list(df_bin.columns) + list(df_cat.columns)\n",
    "    ).sort_values().plot(kind='barh')"
   ]
  },
  {
   "cell_type": "code",
   "execution_count": 39,
   "id": "c319b2b5-9a3e-4922-89d5-955467508933",
   "metadata": {},
   "outputs": [
    {
     "name": "stdout",
     "output_type": "stream",
     "text": [
      "              precision    recall  f1-score   support\n",
      "\n",
      "           0       0.94      0.67      0.78     12933\n",
      "           1       0.22      0.68      0.34      1827\n",
      "\n",
      "    accuracy                           0.67     14760\n",
      "   macro avg       0.58      0.67      0.56     14760\n",
      "weighted avg       0.85      0.67      0.72     14760\n",
      "\n",
      "     ROC AUC       0.74\n"
     ]
    },
    {
     "data": {
      "text/plain": [
       "(0.5586269196025293, 0.738543402778439)"
      ]
     },
     "execution_count": 39,
     "metadata": {},
     "output_type": "execute_result"
    }
   ],
   "source": [
    "df_cat2 = df_cat.copy()\n",
    "df_cat2.drop(['education_nan'], axis=1, inplace=True)\n",
    "df_cat2.drop(['education_UGR'], axis=1, inplace=True)\n",
    "df_cat2.drop(['education_ACD'], axis=1, inplace=True)\n",
    "Predictor([df_num4, df_cat2, df_bin], baseline_params).assess()"
   ]
  },
  {
   "cell_type": "code",
   "execution_count": 40,
   "id": "cb3ac1dc-a835-4dc2-819b-ce5d373efd92",
   "metadata": {},
   "outputs": [
    {
     "name": "stdout",
     "output_type": "stream",
     "text": [
      "              precision    recall  f1-score   support\n",
      "\n",
      "           0       0.94      0.66      0.78     12933\n",
      "           1       0.22      0.68      0.34      1827\n",
      "\n",
      "    accuracy                           0.67     14760\n",
      "   macro avg       0.58      0.67      0.56     14760\n",
      "weighted avg       0.85      0.67      0.72     14760\n",
      "\n",
      "     ROC AUC       0.73\n"
     ]
    },
    {
     "data": {
      "text/plain": [
       "(0.5566906964661642, 0.7345546757316168)"
      ]
     },
     "execution_count": 40,
     "metadata": {},
     "output_type": "execute_result"
    }
   ],
   "source": [
    "df_bin2 = df_bin.copy()\n",
    "df_bin2.drop(['sex'], axis=1, inplace=True)\n",
    "Predictor([df_num4, df_cat2, df_bin2], baseline_params).assess()"
   ]
  },
  {
   "cell_type": "code",
   "execution_count": 41,
   "id": "562eb5f1-47d9-4412-b40f-bb00080be751",
   "metadata": {},
   "outputs": [
    {
     "data": {
      "text/plain": [
       "education\n",
       "ACD    0.027491\n",
       "PGR    0.043432\n",
       "GRD    0.060544\n",
       "UGR    0.087537\n",
       "SCH    0.100900\n",
       "Name: default, dtype: float64"
      ]
     },
     "execution_count": 41,
     "metadata": {},
     "output_type": "execute_result"
    }
   ],
   "source": [
    "orig_data.groupby('education').default.mean().sort_values()"
   ]
  },
  {
   "cell_type": "code",
   "execution_count": 42,
   "id": "a289bd13-3746-4288-bec2-dc6d3a9b2902",
   "metadata": {},
   "outputs": [
    {
     "data": {
      "text/plain": [
       "SCH    57998\n",
       "GRD    34768\n",
       "UGR    14748\n",
       "PGR     1865\n",
       "NaN      478\n",
       "ACD      291\n",
       "Name: education, dtype: int64"
      ]
     },
     "execution_count": 42,
     "metadata": {},
     "output_type": "execute_result"
    }
   ],
   "source": [
    "orig_data['education'].value_counts(dropna=False)"
   ]
  },
  {
   "cell_type": "code",
   "execution_count": 43,
   "id": "4043a6be-7885-422f-b0b4-4288e0514b4b",
   "metadata": {},
   "outputs": [],
   "source": [
    "df_cat3 = orig_data[cat_cols].copy()\n",
    "mapping = {\n",
    "    np.nan: 0,\n",
    "    'SCH': 0,\n",
    "    'UGR': 1,\n",
    "    'GRD': 2,\n",
    "    'PGR': 3,\n",
    "    'ACD': 4\n",
    "} \n",
    "df_cat3['education'] = pd.DataFrame(orig_data['education'].apply(mapping.get))"
   ]
  },
  {
   "cell_type": "code",
   "execution_count": 44,
   "id": "4fe63e3d-06a8-40e7-a385-a6917b3618bb",
   "metadata": {},
   "outputs": [
    {
     "data": {
      "text/plain": [
       "0    58476\n",
       "2    34768\n",
       "1    14748\n",
       "3     1865\n",
       "4      291\n",
       "Name: education, dtype: int64"
      ]
     },
     "execution_count": 44,
     "metadata": {},
     "output_type": "execute_result"
    }
   ],
   "source": [
    "df_cat3['education'].value_counts(dropna=False)"
   ]
  },
  {
   "cell_type": "code",
   "execution_count": 45,
   "id": "4e3f7641-3d39-4c2c-bfd1-748fcc178df6",
   "metadata": {},
   "outputs": [
    {
     "name": "stdout",
     "output_type": "stream",
     "text": [
      "              precision    recall  f1-score   support\n",
      "\n",
      "           0       0.94      0.67      0.78     12933\n",
      "           1       0.22      0.68      0.34      1827\n",
      "\n",
      "    accuracy                           0.67     14760\n",
      "   macro avg       0.58      0.67      0.56     14760\n",
      "weighted avg       0.85      0.67      0.73     14760\n",
      "\n",
      "     ROC AUC       0.74\n"
     ]
    },
    {
     "data": {
      "text/plain": [
       "(0.5590224584153214, 0.7387035477485728)"
      ]
     },
     "execution_count": 45,
     "metadata": {},
     "output_type": "execute_result"
    }
   ],
   "source": [
    "Predictor([df_num4, df_cat3, df_bin], baseline_params).assess()"
   ]
  },
  {
   "cell_type": "code",
   "execution_count": 46,
   "id": "7df06599-bac6-4fc0-87ce-12bbc74819bb",
   "metadata": {},
   "outputs": [
    {
     "data": {
      "image/png": "[encoded data removed]",
      "text/plain": [
       "<Figure size 432x288 with 1 Axes>"
      ]
     },
     "metadata": {
      "needs_background": "light"
     },
     "output_type": "display_data"
    }
   ],
   "source": [
    "with warnings.catch_warnings():\n",
    "    warnings.filterwarnings('ignore', '`np.int` is a deprecated')\n",
    "    pd.Series(\n",
    "        feature_selection.mutual_info_classif(\n",
    "            pd.concat([df_bin, df_cat3], axis=1), \n",
    "            orig_data['default'], \n",
    "            discrete_features=True\n",
    "        ), \n",
    "        index=list(df_bin.columns) + list(df_cat3.columns)\n",
    "    ).sort_values().plot(kind='barh')"
   ]
  },
  {
   "cell_type": "code",
   "execution_count": 47,
   "id": "7e16dcc4-cf5c-4e6e-b539-cfb5b1b55cf3",
   "metadata": {},
   "outputs": [],
   "source": [
    "df_final = pd.concat([df_num4, df_cat3, df_bin], axis=1)"
   ]
  },
  {
   "cell_type": "code",
   "execution_count": 48,
   "id": "c16878cb-db0e-4b2e-b4ca-d2c44a315e46",
   "metadata": {},
   "outputs": [
    {
     "data": {
      "text/html": [
       "<div>\n",
       "<style scoped>\n",
       "    .dataframe tbody tr th:only-of-type {\n",
       "        vertical-align: middle;\n",
       "    }\n",
       "\n",
       "    .dataframe tbody tr th {\n",
       "        vertical-align: top;\n",
       "    }\n",
       "\n",
       "    .dataframe thead th {\n",
       "        text-align: right;\n",
       "    }\n",
       "</style>\n",
       "<table border=\"1\" class=\"dataframe\">\n",
       "  <thead>\n",
       "    <tr style=\"text-align: right;\">\n",
       "      <th></th>\n",
       "      <th>score_bki</th>\n",
       "      <th>decline_app_cnt</th>\n",
       "      <th>bki_request_cnt</th>\n",
       "      <th>income</th>\n",
       "      <th>education</th>\n",
       "      <th>first_time</th>\n",
       "      <th>sna</th>\n",
       "      <th>work_address</th>\n",
       "      <th>home_address</th>\n",
       "      <th>region_rating</th>\n",
       "      <th>sex</th>\n",
       "      <th>car</th>\n",
       "      <th>car_type</th>\n",
       "      <th>good_work</th>\n",
       "      <th>foreign_passport</th>\n",
       "    </tr>\n",
       "  </thead>\n",
       "  <tbody>\n",
       "    <tr>\n",
       "      <th>65443</th>\n",
       "      <td>-0.191091</td>\n",
       "      <td>-0.422835</td>\n",
       "      <td>0.811609</td>\n",
       "      <td>0.164974</td>\n",
       "      <td>2</td>\n",
       "      <td>2</td>\n",
       "      <td>4</td>\n",
       "      <td>3</td>\n",
       "      <td>2</td>\n",
       "      <td>60</td>\n",
       "      <td>0</td>\n",
       "      <td>0</td>\n",
       "      <td>0</td>\n",
       "      <td>0</td>\n",
       "      <td>0</td>\n",
       "    </tr>\n",
       "    <tr>\n",
       "      <th>26963</th>\n",
       "      <td>-0.358601</td>\n",
       "      <td>-0.422835</td>\n",
       "      <td>-0.347862</td>\n",
       "      <td>-1.223159</td>\n",
       "      <td>0</td>\n",
       "      <td>4</td>\n",
       "      <td>1</td>\n",
       "      <td>3</td>\n",
       "      <td>2</td>\n",
       "      <td>40</td>\n",
       "      <td>0</td>\n",
       "      <td>0</td>\n",
       "      <td>0</td>\n",
       "      <td>0</td>\n",
       "      <td>0</td>\n",
       "    </tr>\n",
       "    <tr>\n",
       "      <th>56139</th>\n",
       "      <td>0.559046</td>\n",
       "      <td>2.622608</td>\n",
       "      <td>0.310198</td>\n",
       "      <td>-0.476756</td>\n",
       "      <td>0</td>\n",
       "      <td>3</td>\n",
       "      <td>1</td>\n",
       "      <td>2</td>\n",
       "      <td>1</td>\n",
       "      <td>50</td>\n",
       "      <td>1</td>\n",
       "      <td>0</td>\n",
       "      <td>0</td>\n",
       "      <td>0</td>\n",
       "      <td>0</td>\n",
       "    </tr>\n",
       "    <tr>\n",
       "      <th>89850</th>\n",
       "      <td>0.591041</td>\n",
       "      <td>-0.422835</td>\n",
       "      <td>-1.307360</td>\n",
       "      <td>-0.900431</td>\n",
       "      <td>0</td>\n",
       "      <td>2</td>\n",
       "      <td>3</td>\n",
       "      <td>2</td>\n",
       "      <td>1</td>\n",
       "      <td>60</td>\n",
       "      <td>1</td>\n",
       "      <td>1</td>\n",
       "      <td>1</td>\n",
       "      <td>1</td>\n",
       "      <td>0</td>\n",
       "    </tr>\n",
       "    <tr>\n",
       "      <th>27512</th>\n",
       "      <td>-0.339793</td>\n",
       "      <td>-0.422835</td>\n",
       "      <td>1.849733</td>\n",
       "      <td>-0.900431</td>\n",
       "      <td>0</td>\n",
       "      <td>3</td>\n",
       "      <td>1</td>\n",
       "      <td>3</td>\n",
       "      <td>2</td>\n",
       "      <td>40</td>\n",
       "      <td>0</td>\n",
       "      <td>0</td>\n",
       "      <td>0</td>\n",
       "      <td>0</td>\n",
       "      <td>1</td>\n",
       "    </tr>\n",
       "    <tr>\n",
       "      <th>96359</th>\n",
       "      <td>-1.316193</td>\n",
       "      <td>-0.422835</td>\n",
       "      <td>-1.307360</td>\n",
       "      <td>-0.751989</td>\n",
       "      <td>0</td>\n",
       "      <td>3</td>\n",
       "      <td>1</td>\n",
       "      <td>3</td>\n",
       "      <td>2</td>\n",
       "      <td>80</td>\n",
       "      <td>1</td>\n",
       "      <td>1</td>\n",
       "      <td>1</td>\n",
       "      <td>0</td>\n",
       "      <td>0</td>\n",
       "    </tr>\n",
       "    <tr>\n",
       "      <th>28311</th>\n",
       "      <td>0.561433</td>\n",
       "      <td>-0.422835</td>\n",
       "      <td>-1.307360</td>\n",
       "      <td>-0.751989</td>\n",
       "      <td>2</td>\n",
       "      <td>3</td>\n",
       "      <td>1</td>\n",
       "      <td>1</td>\n",
       "      <td>1</td>\n",
       "      <td>50</td>\n",
       "      <td>1</td>\n",
       "      <td>0</td>\n",
       "      <td>0</td>\n",
       "      <td>0</td>\n",
       "      <td>0</td>\n",
       "    </tr>\n",
       "    <tr>\n",
       "      <th>17337</th>\n",
       "      <td>-0.128869</td>\n",
       "      <td>-0.422835</td>\n",
       "      <td>1.216793</td>\n",
       "      <td>1.754753</td>\n",
       "      <td>2</td>\n",
       "      <td>4</td>\n",
       "      <td>1</td>\n",
       "      <td>3</td>\n",
       "      <td>2</td>\n",
       "      <td>80</td>\n",
       "      <td>1</td>\n",
       "      <td>1</td>\n",
       "      <td>1</td>\n",
       "      <td>0</td>\n",
       "      <td>1</td>\n",
       "    </tr>\n",
       "    <tr>\n",
       "      <th>16976</th>\n",
       "      <td>-0.047623</td>\n",
       "      <td>2.622608</td>\n",
       "      <td>-1.307360</td>\n",
       "      <td>-0.108704</td>\n",
       "      <td>1</td>\n",
       "      <td>1</td>\n",
       "      <td>4</td>\n",
       "      <td>2</td>\n",
       "      <td>1</td>\n",
       "      <td>60</td>\n",
       "      <td>1</td>\n",
       "      <td>0</td>\n",
       "      <td>0</td>\n",
       "      <td>0</td>\n",
       "      <td>0</td>\n",
       "    </tr>\n",
       "    <tr>\n",
       "      <th>94945</th>\n",
       "      <td>1.126243</td>\n",
       "      <td>-0.422835</td>\n",
       "      <td>1.556805</td>\n",
       "      <td>-0.751989</td>\n",
       "      <td>0</td>\n",
       "      <td>3</td>\n",
       "      <td>1</td>\n",
       "      <td>3</td>\n",
       "      <td>3</td>\n",
       "      <td>40</td>\n",
       "      <td>1</td>\n",
       "      <td>0</td>\n",
       "      <td>0</td>\n",
       "      <td>0</td>\n",
       "      <td>0</td>\n",
       "    </tr>\n",
       "  </tbody>\n",
       "</table>\n",
       "</div>"
      ],
      "text/plain": [
       "       score_bki  decline_app_cnt  bki_request_cnt    income  education  \\\n",
       "65443  -0.191091        -0.422835         0.811609  0.164974          2   \n",
       "26963  -0.358601        -0.422835        -0.347862 -1.223159          0   \n",
       "56139   0.559046         2.622608         0.310198 -0.476756          0   \n",
       "89850   0.591041        -0.422835        -1.307360 -0.900431          0   \n",
       "27512  -0.339793        -0.422835         1.849733 -0.900431          0   \n",
       "96359  -1.316193        -0.422835        -1.307360 -0.751989          0   \n",
       "28311   0.561433        -0.422835        -1.307360 -0.751989          2   \n",
       "17337  -0.128869        -0.422835         1.216793  1.754753          2   \n",
       "16976  -0.047623         2.622608        -1.307360 -0.108704          1   \n",
       "94945   1.126243        -0.422835         1.556805 -0.751989          0   \n",
       "\n",
       "       first_time  sna  work_address  home_address  region_rating  sex  car  \\\n",
       "65443           2    4             3             2             60    0    0   \n",
       "26963           4    1             3             2             40    0    0   \n",
       "56139           3    1             2             1             50    1    0   \n",
       "89850           2    3             2             1             60    1    1   \n",
       "27512           3    1             3             2             40    0    0   \n",
       "96359           3    1             3             2             80    1    1   \n",
       "28311           3    1             1             1             50    1    0   \n",
       "17337           4    1             3             2             80    1    1   \n",
       "16976           1    4             2             1             60    1    0   \n",
       "94945           3    1             3             3             40    1    0   \n",
       "\n",
       "       car_type  good_work  foreign_passport  \n",
       "65443         0          0                 0  \n",
       "26963         0          0                 0  \n",
       "56139         0          0                 0  \n",
       "89850         1          1                 0  \n",
       "27512         0          0                 1  \n",
       "96359         1          0                 0  \n",
       "28311         0          0                 0  \n",
       "17337         1          0                 1  \n",
       "16976         0          0                 0  \n",
       "94945         0          0                 0  "
      ]
     },
     "execution_count": 48,
     "metadata": {},
     "output_type": "execute_result"
    }
   ],
   "source": [
    "df_final.sample(10)"
   ]
  },
  {
   "cell_type": "code",
   "execution_count": 49,
   "id": "ed511256-01e9-4874-8ef2-d7939dce31bc",
   "metadata": {},
   "outputs": [
    {
     "name": "stdout",
     "output_type": "stream",
     "text": [
      "class_weight    'balanced'\n",
      "max_iter        1000\n",
      "multi_class     'auto'\n",
      "penalty         'none'\n",
      "solver          'saga'\n",
      "tol             0.0001\n"
     ]
    }
   ],
   "source": [
    "predictor = Predictor([df_final])\n",
    "final_params = predictor.optimize_model_params(max_iter=1000, tol=1e-4)\n",
    "print('\\n'.join(f'{k:15s} {repr(v)}' for k, v in final_params.items()))"
   ]
  },
  {
   "cell_type": "code",
   "execution_count": 50,
   "id": "be8a1adc-d705-453d-ad04-64f2acae4c54",
   "metadata": {},
   "outputs": [
    {
     "name": "stdout",
     "output_type": "stream",
     "text": [
      "              precision    recall  f1-score   support\n",
      "\n",
      "           0       0.94      0.67      0.78     12933\n",
      "           1       0.22      0.68      0.34      1827\n",
      "\n",
      "    accuracy                           0.67     14760\n",
      "   macro avg       0.58      0.67      0.56     14760\n",
      "weighted avg       0.85      0.67      0.73     14760\n",
      "\n",
      "     ROC AUC       0.74\n"
     ]
    },
    {
     "data": {
      "text/plain": [
       "(0.5588710161243079, 0.7387125622513844)"
      ]
     },
     "execution_count": 50,
     "metadata": {},
     "output_type": "execute_result"
    }
   ],
   "source": [
    "predictor.assess()"
   ]
  },
  {
   "cell_type": "code",
   "execution_count": 51,
   "id": "33f909d1-1f53-45c0-a6dd-ad24bd560cfa",
   "metadata": {},
   "outputs": [
    {
     "name": "stderr",
     "output_type": "stream",
     "text": [
      "/opt/conda/lib/python3.7/site-packages/sklearn/linear_model/_base.py:309: DeprecationWarning: `np.int` is a deprecated alias for the builtin `int`. To silence this warning, use `int` by itself. Doing this will not modify any behavior and is safe. When replacing `np.int`, you may wish to use e.g. `np.int64` or `np.int32` to specify the precision. If you wish to review your current use, check the release note link for additional information.\n",
      "Deprecated in NumPy 1.20; for more details and guidance: https://numpy.org/devdocs/release/1.20.0-notes.html#deprecations\n",
      "  indices = (scores > 0).astype(np.int)\n"
     ]
    }
   ],
   "source": [
    "predict_submission = predictor.final_predict()"
   ]
  },
  {
   "cell_type": "code",
   "execution_count": 52,
   "id": "89aec45b-47c2-494a-991e-7672d212a9bf",
   "metadata": {},
   "outputs": [
    {
     "data": {
      "text/html": [
       "<div>\n",
       "<style scoped>\n",
       "    .dataframe tbody tr th:only-of-type {\n",
       "        vertical-align: middle;\n",
       "    }\n",
       "\n",
       "    .dataframe tbody tr th {\n",
       "        vertical-align: top;\n",
       "    }\n",
       "\n",
       "    .dataframe thead th {\n",
       "        text-align: right;\n",
       "    }\n",
       "</style>\n",
       "<table border=\"1\" class=\"dataframe\">\n",
       "  <thead>\n",
       "    <tr style=\"text-align: right;\">\n",
       "      <th></th>\n",
       "      <th>client_id</th>\n",
       "      <th>default</th>\n",
       "    </tr>\n",
       "  </thead>\n",
       "  <tbody>\n",
       "    <tr>\n",
       "      <th>0</th>\n",
       "      <td>74835</td>\n",
       "      <td>0</td>\n",
       "    </tr>\n",
       "    <tr>\n",
       "      <th>1</th>\n",
       "      <td>17527</td>\n",
       "      <td>1</td>\n",
       "    </tr>\n",
       "    <tr>\n",
       "      <th>2</th>\n",
       "      <td>75683</td>\n",
       "      <td>0</td>\n",
       "    </tr>\n",
       "    <tr>\n",
       "      <th>3</th>\n",
       "      <td>26883</td>\n",
       "      <td>0</td>\n",
       "    </tr>\n",
       "    <tr>\n",
       "      <th>4</th>\n",
       "      <td>28862</td>\n",
       "      <td>0</td>\n",
       "    </tr>\n",
       "    <tr>\n",
       "      <th>5</th>\n",
       "      <td>99881</td>\n",
       "      <td>1</td>\n",
       "    </tr>\n",
       "    <tr>\n",
       "      <th>6</th>\n",
       "      <td>26630</td>\n",
       "      <td>1</td>\n",
       "    </tr>\n",
       "    <tr>\n",
       "      <th>7</th>\n",
       "      <td>79934</td>\n",
       "      <td>0</td>\n",
       "    </tr>\n",
       "    <tr>\n",
       "      <th>8</th>\n",
       "      <td>16605</td>\n",
       "      <td>0</td>\n",
       "    </tr>\n",
       "    <tr>\n",
       "      <th>9</th>\n",
       "      <td>105449</td>\n",
       "      <td>0</td>\n",
       "    </tr>\n",
       "  </tbody>\n",
       "</table>\n",
       "</div>"
      ],
      "text/plain": [
       "   client_id  default\n",
       "0      74835        0\n",
       "1      17527        1\n",
       "2      75683        0\n",
       "3      26883        0\n",
       "4      28862        0\n",
       "5      99881        1\n",
       "6      26630        1\n",
       "7      79934        0\n",
       "8      16605        0\n",
       "9     105449        0"
      ]
     },
     "execution_count": 52,
     "metadata": {},
     "output_type": "execute_result"
    }
   ],
   "source": [
    "sample_submission['default'] = predict_submission\n",
    "sample_submission.to_csv('submission.csv', index=False)\n",
    "sample_submission.head(10)"
   ]
  },
  {
   "cell_type": "code",
   "execution_count": 53,
   "id": "1bc690d9-d048-463d-8c4c-8d1fbf9e9861",
   "metadata": {},
   "outputs": [
    {
     "data": {
      "text/html": [
       "<div>\n",
       "<style scoped>\n",
       "    .dataframe tbody tr th:only-of-type {\n",
       "        vertical-align: middle;\n",
       "    }\n",
       "\n",
       "    .dataframe tbody tr th {\n",
       "        vertical-align: top;\n",
       "    }\n",
       "\n",
       "    .dataframe thead th {\n",
       "        text-align: right;\n",
       "    }\n",
       "</style>\n",
       "<table border=\"1\" class=\"dataframe\">\n",
       "  <thead>\n",
       "    <tr style=\"text-align: right;\">\n",
       "      <th></th>\n",
       "      <th>client_id</th>\n",
       "      <th>default</th>\n",
       "    </tr>\n",
       "  </thead>\n",
       "  <tbody>\n",
       "    <tr>\n",
       "      <th>count</th>\n",
       "      <td>36349.000000</td>\n",
       "      <td>36349.000000</td>\n",
       "    </tr>\n",
       "    <tr>\n",
       "      <th>mean</th>\n",
       "      <td>54945.647473</td>\n",
       "      <td>0.379268</td>\n",
       "    </tr>\n",
       "    <tr>\n",
       "      <th>std</th>\n",
       "      <td>31706.052195</td>\n",
       "      <td>0.485211</td>\n",
       "    </tr>\n",
       "    <tr>\n",
       "      <th>min</th>\n",
       "      <td>4.000000</td>\n",
       "      <td>0.000000</td>\n",
       "    </tr>\n",
       "    <tr>\n",
       "      <th>25%</th>\n",
       "      <td>27744.000000</td>\n",
       "      <td>0.000000</td>\n",
       "    </tr>\n",
       "    <tr>\n",
       "      <th>50%</th>\n",
       "      <td>54657.000000</td>\n",
       "      <td>0.000000</td>\n",
       "    </tr>\n",
       "    <tr>\n",
       "      <th>75%</th>\n",
       "      <td>82322.000000</td>\n",
       "      <td>1.000000</td>\n",
       "    </tr>\n",
       "    <tr>\n",
       "      <th>max</th>\n",
       "      <td>110148.000000</td>\n",
       "      <td>1.000000</td>\n",
       "    </tr>\n",
       "  </tbody>\n",
       "</table>\n",
       "</div>"
      ],
      "text/plain": [
       "           client_id       default\n",
       "count   36349.000000  36349.000000\n",
       "mean    54945.647473      0.379268\n",
       "std     31706.052195      0.485211\n",
       "min         4.000000      0.000000\n",
       "25%     27744.000000      0.000000\n",
       "50%     54657.000000      0.000000\n",
       "75%     82322.000000      1.000000\n",
       "max    110148.000000      1.000000"
      ]
     },
     "execution_count": 53,
     "metadata": {},
     "output_type": "execute_result"
    }
   ],
   "source": [
    "sample_submission.describe()"
   ]
  },
  {
   "cell_type": "code",
   "execution_count": 54,
   "id": "2e58fd63-237c-4d42-8639-fbf99eb8b087",
   "metadata": {},
   "outputs": [
    {
     "name": "stdout",
     "output_type": "stream",
     "text": [
      "Traceback (most recent call last):\n",
      "  File \"/opt/conda/bin/kaggle\", line 5, in <module>\n",
      "    from kaggle.cli import main\n",
      "  File \"/opt/conda/lib/python3.7/site-packages/kaggle/__init__.py\", line 23, in <module>\n",
      "    api.authenticate()\n",
      "  File \"/opt/conda/lib/python3.7/site-packages/kaggle/api/kaggle_api_extended.py\", line 166, in authenticate\n",
      "    self.config_file, self.config_dir))\n",
      "OSError: Could not find kaggle.json. Make sure it's located in /home/user/.kaggle. Or use the environment method.\n"
     ]
    }
   ],
   "source": [
    "!kaggle competitions submit -c sf-scoring -f ssubmission.csv -m \"Message\""
   ]
  },
  {
   "cell_type": "markdown",
   "id": "94c9a6e1-3148-4084-ab65-e4e11136ae7a",
   "metadata": {},
   "source": [
    "# Выводы\n",
    "\n",
    "- Перебор гиперпараметров даёт намного больший положительный эффект, чем мне удалось добиться работой с признаками."
   ]
  }
 ],
 "metadata": {
  "kernelspec": {
   "display_name": "Python 3 (ipykernel)",
   "language": "python",
   "name": "python3"
  },
  "language_info": {
   "codemirror_mode": {
    "name": "ipython",
    "version": 3
   },
   "file_extension": ".py",
   "mimetype": "text/x-python",
   "name": "python",
   "nbconvert_exporter": "python",
   "pygments_lexer": "ipython3",
   "version": "3.7.12"
  },
  "papermill": {
   "default_parameters": {},
   "duration": 15.26062,
   "end_time": "2022-01-26T21:03:21.587424",
   "environment_variables": {},
   "exception": null,
   "input_path": "__notebook__.ipynb",
   "output_path": "__notebook__.ipynb",
   "parameters": {},
   "start_time": "2022-01-26T21:03:06.326804",
   "version": "2.3.3"
  }
 },
 "nbformat": 4,
 "nbformat_minor": 5
}
